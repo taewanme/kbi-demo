{
 "cells": [
  {
   "cell_type": "code",
   "execution_count": 1,
   "id": "559a809c",
   "metadata": {},
   "outputs": [
    {
     "name": "stdout",
     "output_type": "stream",
     "text": [
      "Hostname:  omlvm.livelabs.oraclevcn.com\n",
      "Service \"mlpdb1.livelabs.oraclevcn.com\" has 1 instance(s).\n",
      "\n"
     ]
    }
   ],
   "source": [
    "# Run the following commands to get your hostname and pluggable database service name\n",
    "import os\n",
    "print('Hostname: ',os.uname()[1])\n",
    "stream = os.popen('lsnrctl status | grep mlpdb1')\n",
    "print(stream.read())"
   ]
  },
  {
   "cell_type": "markdown",
   "id": "1f0c41b1",
   "metadata": {},
   "source": [
    "## **Task 1:** Prepare and explore data "
   ]
  },
  {
   "cell_type": "code",
   "execution_count": 2,
   "id": "86d71182",
   "metadata": {},
   "outputs": [
    {
     "ename": "DatabaseError",
     "evalue": "ORA-12545: Connect failed because target host or object does not exist",
     "output_type": "error",
     "traceback": [
      "\u001b[0;31m---------------------------------------------------------------------------\u001b[0m",
      "\u001b[0;31mDatabaseError\u001b[0m                             Traceback (most recent call last)",
      "\u001b[0;32m<ipython-input-2-5f29fc9d707d>\u001b[0m in \u001b[0;36m<module>\u001b[0;34m\u001b[0m\n\u001b[1;32m      1\u001b[0m \u001b[0;32mimport\u001b[0m \u001b[0moml\u001b[0m\u001b[0;34m\u001b[0m\u001b[0;34m\u001b[0m\u001b[0m\n\u001b[1;32m      2\u001b[0m \u001b[0;32mimport\u001b[0m \u001b[0mpandas\u001b[0m \u001b[0;32mas\u001b[0m \u001b[0mpd\u001b[0m\u001b[0;34m\u001b[0m\u001b[0;34m\u001b[0m\u001b[0m\n\u001b[0;32m----> 3\u001b[0;31m oml.connect(user=\"oml_user\", password=\"MLlearnPTS#21_\", \n\u001b[0m\u001b[1;32m      4\u001b[0m             \u001b[0mhost\u001b[0m\u001b[0;34m=\u001b[0m\u001b[0;34m\"oml001\"\u001b[0m\u001b[0;34m,\u001b[0m \u001b[0mport\u001b[0m\u001b[0;34m=\u001b[0m\u001b[0;36m1521\u001b[0m\u001b[0;34m,\u001b[0m\u001b[0;34m\u001b[0m\u001b[0;34m\u001b[0m\u001b[0m\n\u001b[1;32m      5\u001b[0m             \u001b[0mservice_name\u001b[0m\u001b[0;34m=\u001b[0m\u001b[0;34m\"mlpdb1.sub07141037280.rehevcn.oraclevcn.com\"\u001b[0m\u001b[0;34m,\u001b[0m\u001b[0;34m\u001b[0m\u001b[0;34m\u001b[0m\u001b[0m\n",
      "\u001b[0;32m/u01/app/oracle/product/21.3.0/dbhome_1/oml4py/modules/oml/core/methods.cpython-39-x86_64-linux-gnu.so\u001b[0m in \u001b[0;36moml.core.methods.connect\u001b[0;34m()\u001b[0m\n",
      "\u001b[0;31mDatabaseError\u001b[0m: ORA-12545: Connect failed because target host or object does not exist"
     ]
    }
   ],
   "source": [
    "\n",
    "import oml\n",
    "import pandas as pd\n",
    "oml.connect(user=\"oml_user\", password=\"MLlearnPTS#21_\", \n",
    "            host=\"oml001\", port=1521, \n",
    "            service_name=\"mlpdb1.sub07141037280.rehevcn.oraclevcn.com\",\n",
    "            automl=True)\n",
    "oml.isconnected()"
   ]
  },
  {
   "cell_type": "code",
   "execution_count": null,
   "id": "8b1aa648",
   "metadata": {},
   "outputs": [],
   "source": [
    "# Open a cursor and verify database version.\n",
    "cr = oml.cursor()\n",
    "conn = cr.connection\n",
    "print(\"Database version:\", conn.version)"
   ]
  },
  {
   "cell_type": "code",
   "execution_count": null,
   "id": "68eb7e25",
   "metadata": {},
   "outputs": [],
   "source": [
    "# Retrieve user tables from the database schema.\n",
    "cr.execute(\"select table_name, num_rows from user_tables order by 1\").fetchall()\n",
    "# When you execute a query using an oml.cursor, the result is a Python list."
   ]
  },
  {
   "cell_type": "code",
   "execution_count": null,
   "id": "aa5173c2",
   "metadata": {},
   "outputs": [],
   "source": [
    "# It is always a good practice to close the cursor once your transaction is completed.\n",
    "cr.close()"
   ]
  },
  {
   "cell_type": "code",
   "execution_count": null,
   "id": "5853494f",
   "metadata": {},
   "outputs": [],
   "source": [
    "# You can use external data sources for educational purposes.\n",
    "from pydataset import data\n",
    "data()"
   ]
  },
  {
   "cell_type": "code",
   "execution_count": null,
   "id": "851fe02b",
   "metadata": {},
   "outputs": [],
   "source": [
    "# Filter properties and methods list using pattern '*Ins*' and wildcard.\n",
    "import fnmatch\n",
    "load_list = fnmatch.filter(data().dataset_id, '*Ins*')\n",
    "print(load_list)"
   ]
  },
  {
   "cell_type": "code",
   "execution_count": null,
   "id": "0664ac9f",
   "metadata": {},
   "outputs": [],
   "source": [
    "# Load Insurance dataset as a Pandas data frame.\n",
    "claims_df = data('Insurance')\n",
    "claims_df"
   ]
  },
  {
   "cell_type": "code",
   "execution_count": null,
   "id": "3344511e",
   "metadata": {},
   "outputs": [],
   "source": [
    "# Create a table in the database schema and return an OML data frame (oml.DataFrame) object \n",
    "# that is a proxy for the table.\n",
    "try:\n",
    "   oml.drop('CUST_INSUR_CLAIMS') \n",
    "except: \n",
    "   pass\n",
    "oml_claims = oml.create(claims_df, table = 'CUST_INSUR_CLAIMS')\n",
    "# Notice you try to drop CUST_INSUR_CLAIMS table before creating it, just to make sure it \n",
    "# doesn't exist already and you get an error."
   ]
  },
  {
   "cell_type": "code",
   "execution_count": null,
   "id": "188d918a",
   "metadata": {},
   "outputs": [],
   "source": [
    "# Refresh OML_USER tables in SQL Developer, and verify the data in new table CUST_INSUR_CLAIMS.\n",
    "cr = oml.cursor()\n",
    "cr.execute(\"select * from CUST_INSUR_CLAIMS\").fetchall()"
   ]
  },
  {
   "cell_type": "code",
   "execution_count": null,
   "id": "f55b527f",
   "metadata": {},
   "outputs": [],
   "source": [
    "# Check the type of claims_df object.\n",
    "type(claims_df)"
   ]
  },
  {
   "cell_type": "code",
   "execution_count": null,
   "id": "1920efe9",
   "metadata": {},
   "outputs": [],
   "source": [
    "# Check the type of oml_claims object.\n",
    "type(oml_claims)\n",
    "# It is recommended to verify the type every time you create a new Python object. It is also\n",
    "# recommended to return a the list of attributes of the object using dir(object_name) function."
   ]
  },
  {
   "cell_type": "code",
   "execution_count": null,
   "id": "089f5692",
   "metadata": {},
   "outputs": [],
   "source": [
    "# Check the columns of oml_claims data frame, using OML data frame columns attribute.\n",
    "oml_claims.columns"
   ]
  },
  {
   "cell_type": "code",
   "execution_count": null,
   "id": "d9ffbc34",
   "metadata": {},
   "outputs": [],
   "source": [
    "# Display the values in oml_claims data frame. As it has 15k records, the list is truncated.\n",
    "oml_claims"
   ]
  },
  {
   "cell_type": "code",
   "execution_count": null,
   "id": "ce5a10ff",
   "metadata": {},
   "outputs": [],
   "source": [
    "# Retrieve OML_USER tables column details and close the cursor when finished.\n",
    "cr = oml.cursor()\n",
    "col_list = cr.execute(\"select table_name, column_name, data_type, data_length \\\n",
    "                     from user_tab_cols \\\n",
    "                     where table_name like 'CUST_%' \\\n",
    "                     order by 1,2\").fetchall()\n",
    "cr.close()\n",
    "col_list"
   ]
  },
  {
   "cell_type": "code",
   "execution_count": null,
   "id": "e34c6fb1",
   "metadata": {},
   "outputs": [],
   "source": [
    "# Check the type of col_list object.\n",
    "type(col_list)"
   ]
  },
  {
   "cell_type": "code",
   "execution_count": null,
   "id": "59ccdad1",
   "metadata": {},
   "outputs": [],
   "source": [
    "# Check the type of one element in col_list object.\n",
    "type(('CUST_INSUR_LTV', 'T_AMOUNT_AUTOM_PAYMENTS', 'NUMBER', 22))"
   ]
  },
  {
   "cell_type": "code",
   "execution_count": null,
   "id": "47308f36",
   "metadata": {},
   "outputs": [],
   "source": [
    "# Create a Pandas data frame using records from col_list object.\n",
    "col_df = pd.DataFrame(col_list, columns = ['TABLE_NAME', 'COLUMN_NAME', \n",
    "                                           'DATA_TYPE', 'DATA_LENGTH'])\n",
    "col_df"
   ]
  },
  {
   "cell_type": "code",
   "execution_count": null,
   "id": "204c748e",
   "metadata": {},
   "outputs": [],
   "source": [
    "# Create a new OML data frame object that contains two columns from \n",
    "# oml_claims object, filtered by Age.\n",
    "oml_claims_24 = oml_claims[oml_claims[\"Age\"] == '<25',\n",
    "                           [\"Holders\", \"Claims\"]]\n",
    "oml_claims_24"
   ]
  },
  {
   "cell_type": "code",
   "execution_count": null,
   "id": "a334b22e",
   "metadata": {},
   "outputs": [],
   "source": [
    "# Return the sum of the values, representing the total number of \n",
    "# claims for drivers under 25.\n",
    "oml_claims_24.sum()"
   ]
  },
  {
   "cell_type": "code",
   "execution_count": null,
   "id": "18a12f2b",
   "metadata": {},
   "outputs": [],
   "source": [
    "# Calculate risk factor for drivers under 25, as number of claims \n",
    "# divided by the number of holders.\n",
    "oml_claims_24.sum().Claims/oml_claims_24.sum().Holders"
   ]
  },
  {
   "cell_type": "code",
   "execution_count": null,
   "id": "bdf6e0e0",
   "metadata": {},
   "outputs": [],
   "source": [
    "# Generate a Pandas data frame from a database table. CUST_INSUR_LTV is the table \n",
    "# you will use during the entire workshop, containing insurance customers data.\n",
    "cust_df = oml.sync(table = \"CUST_INSUR_LTV\").pull()\n",
    "type(cust_df)"
   ]
  },
  {
   "cell_type": "code",
   "execution_count": null,
   "id": "4a113f0f",
   "metadata": {},
   "outputs": [],
   "source": [
    "# Display the first records in cust_df Pandas data frame, by default 10.\n",
    "cust_df.head()"
   ]
  },
  {
   "cell_type": "code",
   "execution_count": null,
   "id": "3f2bc94e",
   "metadata": {},
   "outputs": [],
   "source": [
    "# Generate an OML data frame from your database table.\n",
    "oml_cust = oml.sync(table = 'CUST_INSUR_LTV')\n",
    "type(oml_cust)"
   ]
  },
  {
   "cell_type": "code",
   "execution_count": null,
   "id": "839593ed",
   "metadata": {},
   "outputs": [],
   "source": [
    "# Display the first records in oml_cust OML data frame, by default 10.\n",
    "oml_cust.head()"
   ]
  },
  {
   "cell_type": "code",
   "execution_count": null,
   "id": "d2c88289",
   "metadata": {},
   "outputs": [],
   "source": [
    "# Life-time value (LTV) is stored in LTV column, and predefined classes based on this \n",
    "# value are stored in LTV_BIN column. These classes have been defined by a human operator. \n",
    "# Keep this in mind when you are testing clustering algorithms for market segmentation, the \n",
    "# machine doesn't have to follow same limits as the ones specified by the business user.\n",
    "classes = oml.sync(query = 'select LTV_BIN, min(LTV), max(LTV) \\\n",
    "                            from CUST_INSUR_LTV group by LTV_BIN order by 2')\n",
    "classes"
   ]
  },
  {
   "cell_type": "markdown",
   "id": "a09a5f59",
   "metadata": {},
   "source": [
    "**Note** : As you can see, our data is pre-labeled. However, you will drop the labels you don't need during training phase, depending on the algorithm. You will drop all labels during testing phase, and verify predicted labels with the pre-label information to check your model accuracy.\n"
   ]
  },
  {
   "cell_type": "code",
   "execution_count": null,
   "id": "5ea98a03",
   "metadata": {},
   "outputs": [],
   "source": [
    "# Plot the distribution of customers by LTV. The most common approach to \n",
    "# visualizing a distribution is the histogram.\n",
    "import matplotlib.pyplot as plt\n",
    "oml.graphics.hist(oml_cust['LTV'], 'auto', color='orange',\n",
    "                  linestyle='solid', edgecolor='white') \n",
    "plt.title('Customers distribution by LTV')\n",
    "plt.ylabel('Customers') \n",
    "plt.xlabel('LTV')"
   ]
  },
  {
   "cell_type": "markdown",
   "id": "a8dffe3b",
   "metadata": {},
   "source": [
    "## **Task 2:** Perform customer classification using a Neural Network\n",
    "\n",
    "Neural Network (NN) algorithms can be used for regression and classification machine learning functions. There are two types of classification:\n",
    "\n",
    "- Binary classification refers to predicting one of two classes for each customer case. E.g. if a customer will buy insurance or not: Yes, No.\n",
    "- Multi-label classification refers to predicting one of more than two classes for each customer. E.g. what size is a customer: Low, Medium, Large, Very Large.\n",
    "\n",
    "An artificial neural network is composed of a large number of interconnected neurons which exchange messages between each other to solve specific problems. They learn by examples and tune the weights of the connections among the neurons during the learning process.\n",
    "\n",
    "> **Note** : For more information, visit [Neural Network](https://docs.oracle.com/en/database/oracle/machine-learning/oml4sql/21/dmcon/neural-network.html#GUID-C45971D9-A874-4546-A0EC-1FF25B229E2B) documentation.\n",
    "\n",
    "At this step, you will build, test, and tune a neural network that can classify your customers in four `LTV_BIN` classes (*LOW*, *MEDIUM*, *HIGH*, and *VERY HIGH*). You will test both types of classification.\n"
   ]
  },
  {
   "cell_type": "code",
   "execution_count": null,
   "id": "e50773f6",
   "metadata": {},
   "outputs": [],
   "source": [
    "# Generate an OML data frame from your database table.\n",
    "oml_cust = oml.sync(table = \"CUST_INSUR_LTV\")\n",
    "oml_cust = oml_cust.drop('LTV')\n",
    "oml_cust.head()"
   ]
  },
  {
   "cell_type": "code",
   "execution_count": null,
   "id": "4861d467",
   "metadata": {},
   "outputs": [],
   "source": [
    "# Split the data set into training and test data.\n",
    "ltv_dat = oml_cust.split() \n",
    "[split.shape for split in ltv_dat]"
   ]
  },
  {
   "cell_type": "code",
   "execution_count": null,
   "id": "f4256b5b",
   "metadata": {},
   "outputs": [],
   "source": [
    "# Create training data and test data.\n",
    "train_x = ltv_dat[0].drop('LTV_BIN') \n",
    "train_y = ltv_dat[0]['LTV_BIN']\n",
    "test_ltv = ltv_dat[1]"
   ]
  },
  {
   "cell_type": "code",
   "execution_count": null,
   "id": "cad20a79",
   "metadata": {},
   "outputs": [],
   "source": [
    "# Create a NN model object.\n",
    "nn_mod = oml.nn(nnet_hidden_layers = 1,\n",
    "                nnet_activations= \"'NNET_ACTIVATIONS_LOG_SIG'\", \n",
    "                NNET_NODES_PER_LAYER= '30')"
   ]
  },
  {
   "cell_type": "markdown",
   "id": "7012cc4a",
   "metadata": {},
   "source": [
    "**Note** : For more information, visit [Algorithm Settings: Neural Network](https://docs.oracle.com/en/database/oracle/oracle-database/21/arpls/DBMS_DATA_MINING.html#GUID-7793F608-2719-45EA-87F9-6F246BA800D4) documentation.\n",
    "    \n",
    "**Note** : To understand this model, visit the [Neural Network](https://docs.oracle.com/en/database/oracle/machine-learning/oml4py/1/mlpug/neural-network.html#GUID-27FE0680-91A9-4F44-B69C-134E3D3BEEC8) page in OML user guide.\n"
   ]
  },
  {
   "cell_type": "code",
   "execution_count": null,
   "id": "da8a6618",
   "metadata": {},
   "outputs": [],
   "source": [
    "# Fit the NN model according to the training data and parameter settings.\n",
    "nn_mod = nn_mod.fit(train_x, train_y)"
   ]
  },
  {
   "cell_type": "code",
   "execution_count": null,
   "id": "9baa892e",
   "metadata": {},
   "outputs": [],
   "source": [
    "# Show details of the model. Did your model converge? If yes, after how many iterations?\n",
    "nn_mod"
   ]
  },
  {
   "cell_type": "code",
   "execution_count": null,
   "id": "e42c2ee3",
   "metadata": {},
   "outputs": [],
   "source": [
    "# Use the model to make predictions on test data.\n",
    "nn_mod.predict(test_ltv.drop('LTV_BIN'),\n",
    "               supplemental_cols = test_ltv[:, ['CUST_ID','LAST',\n",
    "                                                'FIRST','LTV_BIN']]).head(25)"
   ]
  },
  {
   "cell_type": "code",
   "execution_count": null,
   "id": "191dbe12",
   "metadata": {},
   "outputs": [],
   "source": [
    "# Return the prediction probability.\n",
    "nn_mod.predict(test_ltv.drop('LTV_BIN'),\n",
    "               supplemental_cols = test_ltv[:, ['CUST_ID','LAST',\n",
    "                                                'FIRST','LTV_BIN']], \n",
    "               proba = True).head(25)"
   ]
  },
  {
   "cell_type": "code",
   "execution_count": null,
   "id": "4b36c530",
   "metadata": {},
   "outputs": [],
   "source": [
    "# Return mean accuracy for classification. How accurate is your model?\n",
    "nn_mod.score(test_ltv.drop('LTV_BIN'), test_ltv[:, ['LTV_BIN']])"
   ]
  },
  {
   "cell_type": "code",
   "execution_count": null,
   "id": "4797f133",
   "metadata": {},
   "outputs": [],
   "source": [
    "# Change the setting parameter and refit the model. After how \n",
    "# many iterations did this model converge?\n",
    "new_setting = {'NNET_NODES_PER_LAYER': '50'} \n",
    "nn_mod.set_params(**new_setting).fit(train_x, train_y)"
   ]
  },
  {
   "cell_type": "code",
   "execution_count": null,
   "id": "1134c37a",
   "metadata": {},
   "outputs": [],
   "source": [
    "# Return new mean accuracy for classification. How is the \n",
    "# new accuracy compared to the previous one?\n",
    "nn_mod.score(test_ltv.drop('LTV_BIN'), test_ltv[:, ['LTV_BIN']])"
   ]
  },
  {
   "cell_type": "code",
   "execution_count": null,
   "id": "ec898a0c",
   "metadata": {},
   "outputs": [],
   "source": [
    "# Export the NN model as a serialized model to a new table \n",
    "# named NN_MODEL in the database.\n",
    "try:\n",
    "   oml.drop('NN_MODEL') \n",
    "except: \n",
    "   pass\n",
    "nn_export = nn_mod.export_sermodel(table='NN_MODEL')\n",
    "type(nn_export)"
   ]
  },
  {
   "cell_type": "code",
   "execution_count": null,
   "id": "a235f87d",
   "metadata": {},
   "outputs": [],
   "source": [
    "# Show the first 10 characters of the BLOB content from the \n",
    "# serialized model export.\n",
    "nn_export.pull()[0][1:10]"
   ]
  },
  {
   "cell_type": "code",
   "execution_count": null,
   "id": "1dfa204d",
   "metadata": {},
   "outputs": [],
   "source": [
    "# You can use a NN model for Binary Classification. In this case you \n",
    "# can predict if customer will buy or not the insurance, column BUY_INSURANCE \n",
    "# in the data set. Re-generate an OML data frame.\n",
    "oml_cust = oml.sync(table = \"CUST_INSUR_LTV\")\n",
    "oml_cust.head()"
   ]
  },
  {
   "cell_type": "code",
   "execution_count": null,
   "id": "197e916d",
   "metadata": {},
   "outputs": [],
   "source": [
    "# Split the data set and create training and test data.\n",
    "ltv_dat = oml_cust.split() \n",
    "train_x = ltv_dat[0].drop('BUY_INSURANCE') \n",
    "train_y = ltv_dat[0]['BUY_INSURANCE']\n",
    "test_ltv = ltv_dat[1]"
   ]
  },
  {
   "cell_type": "code",
   "execution_count": null,
   "id": "7ccbd7d2",
   "metadata": {},
   "outputs": [],
   "source": [
    "# Create a NN model object, with new settings and refit the model.\n",
    "setting = {'nnet_hidden_layers': 1, \n",
    "           'nnet_activations': 'NNET_ACTIVATIONS_LOG_SIG', \n",
    "           'NNET_NODES_PER_LAYER': '30'} \n",
    "nn_mod.set_params(**setting).fit(train_x, train_y)"
   ]
  },
  {
   "cell_type": "code",
   "execution_count": null,
   "id": "42089348",
   "metadata": {},
   "outputs": [],
   "source": [
    "# Use the model to make predictions on test data. This time \n",
    "# it predicts if customers will buy on not insurance.\n",
    "nn_mod.predict(test_ltv.drop('BUY_INSURANCE'),\n",
    "               supplemental_cols = test_ltv[:, ['CUST_ID','LAST',\n",
    "                                                'FIRST','BUY_INSURANCE']]).head(25)"
   ]
  },
  {
   "cell_type": "code",
   "execution_count": null,
   "id": "8a92d16d",
   "metadata": {},
   "outputs": [],
   "source": [
    "# Return mean accuracy for the binary classification. How \n",
    "# accurate is your model? Can you improve this accuracy?\n",
    "nn_mod.score(test_ltv.drop('BUY_INSURANCE'), test_ltv[:, ['BUY_INSURANCE']])"
   ]
  },
  {
   "cell_type": "markdown",
   "id": "2ceff461",
   "metadata": {},
   "source": [
    "## **Task 3:** Classification model using Decision Tree algorithm\n",
    "\n",
    "Decision Tree (DT) is a supervised machine learning algorithm used for classifying data. In some applications of Oracle Machine Learning, the ability to explain the reason for a decision can be crucial. Decision trees generate rules. A rule is a conditional statement that can be understood by humans and used within a database to identify a set of records.\n",
    "\n",
    "> **Note** : For more information on this algorithm, visit [Decision Tree](https://docs.oracle.com/en/database/oracle/machine-learning/oml4sql/21/dmcon/decision-tree.html#GUID-14DE1A88-220F-44F0-9AC8-77CA844D4A63) documentation.\n",
    "\n",
    "In this example, you will not only classify your customers in four `LTV_BIN` classes (*LOW*, *MEDIUM*, *HIGH*, and *VERY HIGH*), but you will also retrieve the rules (conditions) that are behind the customers classification.\n"
   ]
  },
  {
   "cell_type": "code",
   "execution_count": null,
   "id": "ccbbffca",
   "metadata": {},
   "outputs": [],
   "source": [
    "# Create the OML data frame for this step. Drop LTV column as you will use \n",
    "# only the LTV_BIN classes for the predicted value.\n",
    "oml_cust = oml.sync(table = \"CUST_INSUR_LTV\")\n",
    "oml_cust = oml_cust.drop('LTV')\n",
    "oml_cust.head()"
   ]
  },
  {
   "cell_type": "code",
   "execution_count": null,
   "id": "d1540fc1",
   "metadata": {},
   "outputs": [],
   "source": [
    "# Verify the shape of the OML data frame.\n",
    "oml_cust.shape"
   ]
  },
  {
   "cell_type": "code",
   "execution_count": null,
   "id": "cab49b37",
   "metadata": {},
   "outputs": [],
   "source": [
    "# Split the data set into training and test data. Use 80% for train and 20% for test ratio.\n",
    "ltv_dat = oml_cust.split(ratio=(.8, .2)) \n",
    "[split.shape for split in ltv_dat]"
   ]
  },
  {
   "cell_type": "code",
   "execution_count": null,
   "id": "97f9707d",
   "metadata": {},
   "outputs": [],
   "source": [
    "# Create training data and test data.\n",
    "train_x = ltv_dat[0].drop('LTV_BIN') \n",
    "train_y = ltv_dat[0]['LTV_BIN']\n",
    "test_ltv = ltv_dat[1]"
   ]
  },
  {
   "cell_type": "code",
   "execution_count": null,
   "id": "933cb65c",
   "metadata": {},
   "outputs": [],
   "source": [
    "# Verify the four LTV_BIN classes (LOW, MEDIUM, HIGH, and VERY HIGH) in your dataset.\n",
    "cr = oml.cursor()\n",
    "cr.execute(\"select unique LTV_BIN from CUST_INSUR_LTV order by 1\").fetchall()"
   ]
  },
  {
   "cell_type": "code",
   "execution_count": null,
   "id": "0e16b85d",
   "metadata": {},
   "outputs": [],
   "source": [
    "# Close the cursor.\n",
    "cr.close()"
   ]
  },
  {
   "cell_type": "code",
   "execution_count": null,
   "id": "4ac675a3",
   "metadata": {},
   "outputs": [],
   "source": [
    "# Create a cost matrix table in the database. A cost matrix is a mechanism \n",
    "# for influencing the decision making of a model. In this case, the cost \n",
    "# matrix will cause the model to minimize costly misclassifications.\n",
    "try:\n",
    "   oml.drop('LTV_COST_MATRIX') \n",
    "except: \n",
    "   pass\n",
    "cost_matrix = [['LOW', 'LOW', 0],\n",
    "               ['LOW', 'MEDIUM', 0.3], \n",
    "               ['LOW', 'HIGH', 0.3], \n",
    "               ['LOW', 'VERY HIGH', 0.4], \n",
    "               ['MEDIUM', 'LOW', 0.4], \n",
    "               ['MEDIUM', 'MEDIUM', 0], \n",
    "               ['MEDIUM', 'HIGH', 0.3], \n",
    "               ['MEDIUM', 'VERY HIGH', 0.3], \n",
    "               ['HIGH', 'LOW', 0.5], \n",
    "               ['HIGH', 'MEDIUM', 0.3], \n",
    "               ['HIGH', 'HIGH', 0], \n",
    "               ['HIGH', 'VERY HIGH', 0.2], \n",
    "               ['VERY HIGH', 'LOW', 0.6], \n",
    "               ['VERY HIGH', 'MEDIUM', 0.3], \n",
    "               ['VERY HIGH', 'HIGH', 0.1], \n",
    "               ['VERY HIGH', 'VERY HIGH', 0]]\n",
    "cost_matrix = oml.create( pd.DataFrame(cost_matrix,\n",
    "                          columns = ['ACTUAL_TARGET_VALUE', \n",
    "                                     'PREDICTED_TARGET_VALUE', \n",
    "                                     'COST']),\n",
    "                          table = 'LTV_COST_MATRIX')"
   ]
  },
  {
   "cell_type": "markdown",
   "id": "7133e46e",
   "metadata": {},
   "source": [
    "**Note** : For more information, visit [Cost Matrix Table](https://docs.oracle.com/en/database/oracle/oracle-database/21/arpls/DBMS_DATA_MINING.html#GUID-CF6EB584-8FE9-44F5-BAC0-0751DC094CCE__CACBEFFJ) documentation.\n"
   ]
  },
  {
   "cell_type": "code",
   "execution_count": null,
   "id": "6a0d341c",
   "metadata": {},
   "outputs": [],
   "source": [
    "# Specify algorithm settings.\n",
    "setting = {'TREE_TERM_MAX_DEPTH':'8'}"
   ]
  },
  {
   "cell_type": "markdown",
   "id": "73541ba1",
   "metadata": {},
   "source": [
    "**Note** : For more information, visit [Algorithm Settings: Decision Tree](https://docs.oracle.com/en/database/oracle/oracle-database/21/arpls/DBMS_DATA_MINING.html#GUID-03435110-D723-42FD-B4EA-39C86A039566) documentation.\n"
   ]
  },
  {
   "cell_type": "code",
   "execution_count": null,
   "id": "6c30bc8d",
   "metadata": {},
   "outputs": [],
   "source": [
    "# Create a DT model object.\n",
    "dt_mod = oml.dt(**setting)"
   ]
  },
  {
   "cell_type": "markdown",
   "id": "07b3f6af",
   "metadata": {},
   "source": [
    "**Note** : For more information, visit [Algorithm Settings: Decision Tree](https://docs.oracle.com/en/database/oracle/oracle-database/21/arpls/DBMS_DATA_MINING.html#GUID-03435110-D723-42FD-B4EA-39C86A039566) documentation.\n"
   ]
  },
  {
   "cell_type": "code",
   "execution_count": null,
   "id": "a3dd6803",
   "metadata": {},
   "outputs": [],
   "source": [
    "# Fit the DT model according to the training data and parameter settings.\n",
    "dt_mod.fit(train_x, train_y, cost_matrix = cost_matrix)"
   ]
  },
  {
   "cell_type": "code",
   "execution_count": null,
   "id": "17a721d9",
   "metadata": {},
   "outputs": [],
   "source": [
    "# Use the model to make predictions on the test data.\n",
    "predict_dat = dt_mod.predict(test_ltv.drop('LTV_BIN'),\n",
    "                             supplemental_cols = test_ltv[:, ['CUST_ID','LAST','FIRST','LTV_BIN']])\n",
    "predict_dat.sort_values('CUST_ID')"
   ]
  },
  {
   "cell_type": "code",
   "execution_count": null,
   "id": "1e96085a",
   "metadata": {},
   "outputs": [],
   "source": [
    "# Confusion matrix is a technique for summarizing the performance of a \n",
    "# classification model. This matrix shows the number of customers pre-labeled with \n",
    "# LTV_BIN value and predicted as PREDICTION value in count(CUST_ID)_(PREDICTION) columns.\n",
    "predict_dat[['LTV_BIN','PREDICTION',\n",
    "             'CUST_ID']].pivot_table('LTV_BIN', 'PREDICTION', \n",
    "                                         aggfunc = oml.DataFrame.count)"
   ]
  },
  {
   "cell_type": "code",
   "execution_count": null,
   "id": "22eaa0d3",
   "metadata": {},
   "outputs": [],
   "source": [
    "# Show only customers with wrong predictions.\n",
    "test_predict = test_ltv[['CUST_ID','LAST','FIRST',\n",
    "                         'LTV_BIN']].merge(other = predict_dat[['CUST_ID',\n",
    "                                                                'PREDICTION']], \n",
    "                                                   on=\"CUST_ID\")\n",
    "test_predict[test_predict['LTV_BIN_l'] != \n",
    "             test_predict['PREDICTION_r']].sort_values('CUST_ID')"
   ]
  },
  {
   "cell_type": "code",
   "execution_count": null,
   "id": "97489d2c",
   "metadata": {},
   "outputs": [],
   "source": [
    "# Make predictions and return the probability. DT model returns \n",
    "# prediction probability if proba parameter is True.\n",
    "predict_dat = dt_mod.predict(test_ltv.drop('LTV_BIN'),\n",
    "                             supplemental_cols = test_ltv[:, ['CUST_ID','LAST',\n",
    "                                                              'FIRST','LTV_BIN']],\n",
    "                             proba = True)\n",
    "predict_dat.sort_values('CUST_ID')"
   ]
  },
  {
   "cell_type": "code",
   "execution_count": null,
   "id": "36a60035",
   "metadata": {},
   "outputs": [],
   "source": [
    "# Show only customers with wrong predictions and the probability.\n",
    "test_predict = test_ltv[['CUST_ID','LAST',\n",
    "                         'FIRST','LTV_BIN']].merge(other = predict_dat[['CUST_ID','PREDICTION',\n",
    "                                                                        'PROBABILITY']], \n",
    "                                                   on=\"CUST_ID\")\n",
    "test_predict[test_predict['LTV_BIN_l'] != test_predict['PREDICTION_r']].sort_values('PROBABILITY_r')"
   ]
  },
  {
   "cell_type": "code",
   "execution_count": null,
   "id": "28749016",
   "metadata": {},
   "outputs": [],
   "source": [
    "# Calculate the DT model score. DT model score attribute returns the mean accuracy.\n",
    "dt_mod.score(test_ltv.drop('LTV_BIN'), test_ltv[:, ['LTV_BIN']])"
   ]
  },
  {
   "cell_type": "code",
   "execution_count": null,
   "id": "b5fae390",
   "metadata": {},
   "outputs": [],
   "source": [
    "# Reset TREE_TERM_MAX_DEPTH and refit model. This setting represents \n",
    "# the maximum number of nodes between the root and any leaf node, \n",
    "# including the leaf node. More nodes means longer time to train the DT model. \n",
    "# You may grab a coffee until this step is completed.\n",
    "dt_mod.set_params(TREE_TERM_MAX_DEPTH = '9').fit(train_x, train_y, cost_matrix = cost_matrix)"
   ]
  },
  {
   "cell_type": "code",
   "execution_count": null,
   "id": "db6092ed",
   "metadata": {},
   "outputs": [],
   "source": [
    "# Re-calculate the model score. How much did it improve? You can decide if \n",
    "# it is worth the time spent.\n",
    "dt_mod.score(test_ltv.drop('LTV_BIN'), test_ltv[:, ['LTV_BIN']])"
   ]
  },
  {
   "cell_type": "code",
   "execution_count": null,
   "id": "f200a96c",
   "metadata": {},
   "outputs": [],
   "source": [
    "# The good thing is that once you have a great model, it can be exported \n",
    "# and reused, even to other databases, e.g. Oracle Autonomous Database. \n",
    "# Export serialized model to a table.\n",
    "dt_export = dt_mod.export_sermodel(table='dt_sermod')"
   ]
  },
  {
   "cell_type": "code",
   "execution_count": null,
   "id": "6e7d0d16",
   "metadata": {},
   "outputs": [],
   "source": [
    "# Your DT model is exported as a binary object.\n",
    "type(dt_export)"
   ]
  },
  {
   "cell_type": "code",
   "execution_count": null,
   "id": "910d9571",
   "metadata": {},
   "outputs": [],
   "source": [
    "# Show the first 100 characters of the BLOB content from the model export.\n",
    "dt_export.pull()[0][1:100]"
   ]
  },
  {
   "cell_type": "markdown",
   "id": "c29fed2e",
   "metadata": {},
   "source": [
    "## **Task 4:** Predict LTV values using Generalized Linear Model regression\n",
    "\n",
    "Generalized Linear Model (GLM) is a statistical technique used for linear modeling. Oracle Machine Learning supports GLM for regression and binary classification. Regression is a supervised learning technique used to a predict continuous response target value based on independent predictors.\n",
    "\n",
    "> **Note** : For more information on this algorithm, visit [Generalized Linear Model](https://docs.oracle.com/en/database/oracle/machine-learning/oml4sql/21/dmcon/generalized-linear-model.html#GUID-5E59530F-EBD9-414E-8C8B-63F8079772CE) documentation.\n",
    "\n",
    "In your case, the independent predictors are customer attributes, and the response target value is the customer life-time value.\n"
   ]
  },
  {
   "cell_type": "code",
   "execution_count": null,
   "id": "bed094b6",
   "metadata": {},
   "outputs": [],
   "source": [
    "# Create an OML data frame proxy object in Python that represents your Oracle Database data set.\n",
    "oml_cust = oml.sync(table = \"CUST_INSUR_LTV\")\n",
    "oml_cust = oml_cust.drop('LTV_BIN')\n",
    "oml_cust.head()"
   ]
  },
  {
   "cell_type": "code",
   "execution_count": null,
   "id": "e3502a70",
   "metadata": {},
   "outputs": [],
   "source": [
    "# Split the data set into training and test data, using default ratio.\n",
    "ltv_dat = oml_cust.split() \n",
    "[split.shape for split in ltv_dat]"
   ]
  },
  {
   "cell_type": "code",
   "execution_count": null,
   "id": "040ff318",
   "metadata": {},
   "outputs": [],
   "source": [
    "# Create training data and test data.\n",
    "train_x = ltv_dat[0].drop('LTV') \n",
    "train_y = ltv_dat[0]['LTV']\n",
    "test_ltv = ltv_dat[1]\n",
    "[frame.shape for frame in (train_x, train_y, test_ltv)]"
   ]
  },
  {
   "cell_type": "code",
   "execution_count": null,
   "id": "fafef76e",
   "metadata": {},
   "outputs": [],
   "source": [
    "# Specify settings.\n",
    "setting = {'GLMS_SOLVER': 'dbms_data_mining.GLMS_SOLVER_SGD'}"
   ]
  },
  {
   "cell_type": "markdown",
   "id": "f9ccf929",
   "metadata": {},
   "source": [
    "**Note** : For more information, visit [Algorithm Settings: Generalized Linear Models](https://docs.oracle.com/en/database/oracle/oracle-database/21/arpls/DBMS_DATA_MINING.html#GUID-4E3665B9-B1C2-4F6B-AB69-A7F353C70F5C) documentation.\n"
   ]
  },
  {
   "cell_type": "code",
   "execution_count": null,
   "id": "16e6b60d",
   "metadata": {},
   "outputs": [],
   "source": [
    "# Create a GLM model object.\n",
    "glm_mod = oml.glm('REGRESSION', **setting)"
   ]
  },
  {
   "cell_type": "markdown",
   "id": "57f24b8c",
   "metadata": {},
   "source": [
    "**Note** : To understand this model, visit the [Generalized Linear Models](https://docs.oracle.com/en/database/oracle/machine-learning/oml4py/1/mlpug/general-linearized-model.html#GUID-4464A453-60F0-4751-B231-91BC5708D1F8) page in OML user guide.\n"
   ]
  },
  {
   "cell_type": "code",
   "execution_count": null,
   "id": "e0e12bc5",
   "metadata": {},
   "outputs": [],
   "source": [
    "# Fit the GLM model according to the training data and parameter settings. \n",
    "# The name of a column that contains unique case identifiers is used for case_id parameter.\n",
    "glm_mod = glm_mod.fit(train_x, train_y, case_id = 'CUST_ID')"
   ]
  },
  {
   "cell_type": "code",
   "execution_count": null,
   "id": "c4b1403a",
   "metadata": {},
   "outputs": [],
   "source": [
    "# Show the model details.\n",
    "glm_mod"
   ]
  },
  {
   "cell_type": "code",
   "execution_count": null,
   "id": "8d9d5cca",
   "metadata": {},
   "outputs": [],
   "source": [
    "# Check the value of converged attribute.\n",
    "glm_mod.converged"
   ]
  },
  {
   "cell_type": "markdown",
   "id": "a3f6fd63",
   "metadata": {},
   "source": [
    "Convergence means the optimal solution has been reached and the iterations of the optimization has come to an end. Can you make predictions if converged attribute is False?"
   ]
  },
  {
   "cell_type": "code",
   "execution_count": null,
   "id": "f35f814f",
   "metadata": {},
   "outputs": [],
   "source": [
    "# Specify new settings.\n",
    "setting = {'GLMS_SOLVER': 'dbms_data_mining.GLMS_SOLVER_CHOL'}"
   ]
  },
  {
   "cell_type": "code",
   "execution_count": null,
   "id": "51bded51",
   "metadata": {},
   "outputs": [],
   "source": [
    "# Recreate a GLM model object with new settings.\n",
    "glm_mod = oml.glm('REGRESSION', **setting)"
   ]
  },
  {
   "cell_type": "code",
   "execution_count": null,
   "id": "d4e4f82a",
   "metadata": {},
   "outputs": [],
   "source": [
    "# Refit the GLM model according to the training data and parameter settings.\n",
    "glm_mod = glm_mod.fit(train_x, train_y, case_id = 'CUST_ID')"
   ]
  },
  {
   "cell_type": "code",
   "execution_count": null,
   "id": "8c19d00d",
   "metadata": {},
   "outputs": [],
   "source": [
    "# Recheck the value of converged attribute.\n",
    "glm_mod.converged"
   ]
  },
  {
   "cell_type": "code",
   "execution_count": null,
   "id": "0ce9da1b",
   "metadata": {},
   "outputs": [],
   "source": [
    "# Use the model to make predictions on the test data. How are \n",
    "# the PREDICTION values compared to the exact LTV values?\n",
    "glm_mod.predict(test_ltv.drop('LTV'),\n",
    "                supplemental_cols = test_ltv[:, ['CUST_ID','LAST','FIRST','LTV']])"
   ]
  },
  {
   "cell_type": "code",
   "execution_count": null,
   "id": "572dac54",
   "metadata": {},
   "outputs": [],
   "source": [
    "# Return the prediction probability.\n",
    "glm_mod.predict(test_ltv.drop('LTV'),\n",
    "                supplemental_cols = test_ltv[:, ['CUST_ID','LAST','FIRST','LTV']], \n",
    "                proba = True)"
   ]
  },
  {
   "cell_type": "code",
   "execution_count": null,
   "id": "7c094afd",
   "metadata": {},
   "outputs": [],
   "source": [
    "# How far are predicted values from the pre-labeled LTV values you have \n",
    "# in the dataset? Create an OML data frame to investigate.\n",
    "predictions = glm_mod.predict(test_ltv.drop('LTV'),\n",
    "                supplemental_cols = test_ltv[:, ['LTV']])\n",
    "predictions"
   ]
  },
  {
   "cell_type": "code",
   "execution_count": null,
   "id": "a5588ba1",
   "metadata": {},
   "outputs": [],
   "source": [
    "# Calculate the differences between pre-labeled LTV and predicted LTV values.\n",
    "diff = (predictions['LTV']-predictions['PREDICTION'])\n",
    "diff"
   ]
  },
  {
   "cell_type": "code",
   "execution_count": null,
   "id": "6cf18c15",
   "metadata": {},
   "outputs": [],
   "source": [
    "# Concatenate OML data frame with resulted differences.\n",
    "predictions.rename({'LTV':'LABEL_LTV'})\n",
    "ltv_diff = predictions.concat(diff).rename({'LTV':'LTV_DIFFERENCE'})\n",
    "ltv_diff"
   ]
  },
  {
   "cell_type": "code",
   "execution_count": null,
   "id": "7695df82",
   "metadata": {},
   "outputs": [],
   "source": [
    "# Plot the prediction error values.\n",
    "import matplotlib.pyplot as plt\n",
    "plt.stem(ltv_diff.pull()[['LABEL_LTV']], \n",
    "         ltv_diff.pull()[['LTV_DIFFERENCE']], 'b.')\n",
    "plt.xlabel('Label LTV value')\n",
    "plt.ylabel('LTV difference')\n",
    "plt.title('Prediction error from prelabeled LTV')\n",
    "plt.show()"
   ]
  },
  {
   "cell_type": "markdown",
   "id": "935c9211",
   "metadata": {},
   "source": [
    "## **Task 5:** Discover natural groupings with K-Means clustering\n",
    "\n",
    "Oracle Machine Learning supports enhanced k-Means (KM) clustering algorithm. The KM algorithm is a distance-based clustering algorithm that partitions the data into a specified number of clusters. It relies on a distance function to measure the similarity between cases. Cases are assigned to the nearest cluster according to the distance function used.\n",
    "\n",
    "> **Note** : For more information on this algorithm, visit [k-Means](https://docs.oracle.com/en/database/oracle/machine-learning/oml4sql/21/dmcon/k-means.html#GUID-AA5D4D4E-936F-474A-8919-5E7FF5EE69B1) documentation.\n",
    "\n",
    "You will group customers in four clusters. KM algorithm is more appropriate for data sets with a low number of attributes. For this reason, you will reduce the training and test data to just one dimension, customer life-time value.\n"
   ]
  },
  {
   "cell_type": "code",
   "execution_count": null,
   "id": "aad03285",
   "metadata": {},
   "outputs": [],
   "source": [
    "# Create training and test data. Use only CUST_ID column that contains unique \n",
    "# case identifiers, and LTV column that contains customer life-time values.\n",
    "oml_cust = oml.sync(table = \"CUST_INSUR_LTV\")\n",
    "oml_cust_one = oml_cust[['CUST_ID','LTV']]\n",
    "oml_cust_one.head()"
   ]
  },
  {
   "cell_type": "code",
   "execution_count": null,
   "id": "7b574581",
   "metadata": {},
   "outputs": [],
   "source": [
    "# Left merge the oml_cust full data set to verify predefined classes stored in \n",
    "# LTV_BIN column to the reduced data set called oml_cust_one.\n",
    "oml_cust_one.merge(other=oml_cust[['CUST_ID', 'LTV_BIN']], on=\"CUST_ID\")"
   ]
  },
  {
   "cell_type": "code",
   "execution_count": null,
   "id": "086ca109",
   "metadata": {},
   "outputs": [],
   "source": [
    "# Split the data set and create training and test data.\n",
    "ltv_dat = oml_cust_one.split() \n",
    "train_ltv = ltv_dat[0]\n",
    "test_ltv = ltv_dat[1]\n",
    "[frame.shape for frame in (train_ltv, test_ltv)]"
   ]
  },
  {
   "cell_type": "code",
   "execution_count": null,
   "id": "6138bc70",
   "metadata": {},
   "outputs": [],
   "source": [
    "# Specify settings.\n",
    "setting = {'kmns_iterations': 20}"
   ]
  },
  {
   "cell_type": "markdown",
   "id": "12eee414",
   "metadata": {},
   "source": [
    "**Note** : For more information, visit [Algorithm Settings: k-Means](https://docs.oracle.com/en/database/oracle/oracle-database/21/arpls/DBMS_DATA_MINING.html#GUID-7010593E-C323-4DFC-8468-D85CE41A0C3C) documentation.\n"
   ]
  },
  {
   "cell_type": "code",
   "execution_count": null,
   "id": "ecacc056",
   "metadata": {},
   "outputs": [],
   "source": [
    "# Create a KM model object and fit it according to the training data and parameter \n",
    "# settings. n_clusters parameter specifies the number of clusters.\n",
    "km_mod = oml.km(n_clusters = 4, **setting).fit(train_ltv, case_id = 'CUST_ID')"
   ]
  },
  {
   "cell_type": "markdown",
   "id": "53319db8",
   "metadata": {},
   "source": [
    "**Note** : To understand this model, visit the [k-Means](https://docs.oracle.com/en/database/oracle/machine-learning/oml4py/1/mlpug/k-means.html#GUID-7909D96B-D3B9-411B-BAD5-96DAFAF06B42) page in OML user guide.\n"
   ]
  },
  {
   "cell_type": "code",
   "execution_count": null,
   "id": "bf3190fc",
   "metadata": {},
   "outputs": [],
   "source": [
    "# Show KM model details. Did your model converge?\n",
    "km_mod"
   ]
  },
  {
   "cell_type": "code",
   "execution_count": null,
   "id": "c166fa0b",
   "metadata": {},
   "outputs": [],
   "source": [
    "# Use the model to cluster the test data.\n",
    "predictions = km_mod.predict(test_ltv,\n",
    "                 supplemental_cols = test_ltv[:, ['CUST_ID', 'LTV']])\n",
    "predictions"
   ]
  },
  {
   "cell_type": "code",
   "execution_count": null,
   "id": "7582f106",
   "metadata": {},
   "outputs": [],
   "source": [
    "# Left merge the oml_cust full data set to view if there is a connection \n",
    "# between the four clusters and the predefined classes stored in LTV_BIN column.\n",
    "km_mod.predict(test_ltv,\n",
    "               supplemental_cols = test_ltv[:, \n",
    "                       ['CUST_ID']]).merge(other=oml_cust[['CUST_ID',\n",
    "                                                     'LTV_BIN']], on=\"CUST_ID\")"
   ]
  },
  {
   "cell_type": "code",
   "execution_count": null,
   "id": "a7be0432",
   "metadata": {},
   "outputs": [],
   "source": [
    "# Build a summary to count cluster members grouped by life-time value.\n",
    "km_mod.predict(test_ltv,\n",
    "   supplemental_cols = test_ltv[:, \n",
    "         ['CUST_ID']]).merge(other=oml_cust[['CUST_ID',\n",
    "                        'LTV_BIN']], on=\"CUST_ID\").crosstab('LTV_BIN_r', \n",
    "                                 'CLUSTER_ID_l').sort_values(by = ['CLUSTER_ID_l','count'])"
   ]
  },
  {
   "cell_type": "code",
   "execution_count": null,
   "id": "f9a04b77",
   "metadata": {},
   "outputs": [],
   "source": [
    "# What is the relationship between the four clusters discovered by k-Means \n",
    "# clustering algorithm and the long-term values?\n",
    "import matplotlib.pyplot as plt\n",
    "plt.rcParams[\"figure.figsize\"] = (8,10)\n",
    "plt.plot(predictions[predictions['CLUSTER_ID'] == 3].pull()[['CLUSTER_ID']].replace({3:1}), \n",
    "         predictions[predictions['CLUSTER_ID'] == 3].pull()[['LTV']], 'ro',\n",
    "         predictions[predictions['CLUSTER_ID'] == 5].pull()[['CLUSTER_ID']].replace({5:2}), \n",
    "         predictions[predictions['CLUSTER_ID'] == 5].pull()[['LTV']], 'go',\n",
    "         predictions[predictions['CLUSTER_ID'] == 6].pull()[['CLUSTER_ID']].replace({6:3}), \n",
    "         predictions[predictions['CLUSTER_ID'] == 6].pull()[['LTV']], 'bo',\n",
    "         predictions[predictions['CLUSTER_ID'] == 7].pull()[['CLUSTER_ID']].replace({7:4}), \n",
    "         predictions[predictions['CLUSTER_ID'] == 7].pull()[['LTV']], 'mo', alpha=0.15)\n",
    "plt.xlabel('Cluster 3-red, 5-green, 6-blue, 7-magenta')\n",
    "plt.ylabel('LTV')\n",
    "plt.show()"
   ]
  },
  {
   "cell_type": "code",
   "execution_count": null,
   "id": "c7db2ca4",
   "metadata": {},
   "outputs": [],
   "source": [
    "# Calculate the score value based on the test data.\n",
    "km_mod.score(test_ltv)"
   ]
  },
  {
   "cell_type": "markdown",
   "id": "89b4fbd1",
   "metadata": {},
   "source": [
    "## **Task 6:** Rank customer attributes with Attribute Importance\n",
    "\n",
    "Oracle Machine Learning supports the Attribute Importance (AI) machine learning function, which ranks attributes according to their importance. Attribute importance does not actually select the features, but ranks them as to their relevance to predicting the result. It is up to the user to review the ranked features and create a data set to include the desired features. \n",
    "\n",
    "> **Note** : For more information, visit [About Feature Selection and Attribute Importance](https://docs.oracle.com/en/database/oracle/machine-learning/oml4sql/21/dmcon/feature-selection.html#GUID-FE2DFE18-670E-4E1A-83A8-5C67CA4D8564) documentation.\n",
    "\n",
    "In this example, you will use the entire data set, however you will drop `LTV` column. This column represents the exact numeric value of your customers LTV, and you already know there is a direct relationship between this column and the customer class represented in `LTV_BIN` column, so LTV value cannot be considered an attribute. \n"
   ]
  },
  {
   "cell_type": "code",
   "execution_count": null,
   "id": "2a16bf07",
   "metadata": {},
   "outputs": [],
   "source": [
    "# Create an OML data frame proxy object in Python that represents your Oracle Database data set.\n",
    "oml_cust = oml.sync(table = \"CUST_INSUR_LTV\")\n",
    "oml_cust = oml_cust.drop('LTV')\n",
    "oml_cust.head()"
   ]
  },
  {
   "cell_type": "code",
   "execution_count": null,
   "id": "43446b8d",
   "metadata": {},
   "outputs": [],
   "source": [
    "# Split the data set into training and test data. Default 70% train, 30% test. \n",
    "# train_x are the customer features, and train_y specifies the label for each customer, \n",
    "# in this case LTV_BIN value.\n",
    "dat = oml_cust.split() \n",
    "train_x = dat[0].drop('LTV_BIN') \n",
    "train_y = dat[0]['LTV_BIN']\n",
    "test_dat = dat[1]"
   ]
  },
  {
   "cell_type": "code",
   "execution_count": null,
   "id": "2010cb81",
   "metadata": {},
   "outputs": [],
   "source": [
    "# Verify features data frame shape, number or rows and columns.\n",
    "train_x.shape"
   ]
  },
  {
   "cell_type": "code",
   "execution_count": null,
   "id": "83248065",
   "metadata": {},
   "outputs": [],
   "source": [
    "# Verify test data frame shape. Why are they different?\n",
    "test_dat.shape"
   ]
  },
  {
   "cell_type": "code",
   "execution_count": null,
   "id": "6bf7bf0a",
   "metadata": {},
   "outputs": [],
   "source": [
    "# Specify model settings.\n",
    "setting = {'ODMS_SAMPLING':'ODMS_SAMPLING_DISABLE'}"
   ]
  },
  {
   "cell_type": "markdown",
   "id": "b7c88dd0",
   "metadata": {},
   "source": [
    "**Note** : For the complete list of settings, check the [`DBMS_DATA_MINING` — Global Settings](https://docs.oracle.com/en/database/oracle/oracle-database/21/arpls/DBMS_DATA_MINING.html#GUID-24047A09-0542-4870-91D8-329F28B0ED75) table.\n"
   ]
  },
  {
   "cell_type": "code",
   "execution_count": null,
   "id": "9390aac1",
   "metadata": {},
   "outputs": [],
   "source": [
    "# Create an AI model object.\n",
    "ai_mod = oml.ai(**setting)"
   ]
  },
  {
   "cell_type": "markdown",
   "id": "93af55ec",
   "metadata": {},
   "source": [
    "**Note** : To understand this model, visit the [Attribute Importance](https://docs.oracle.com/en/database/oracle/machine-learning/oml4py/1/mlpug/attribute-importance.html#GUID-01F5EB3D-68C2-4EF4-A1BB-AF4320A0246A) page in OML user guide.\n"
   ]
  },
  {
   "cell_type": "code",
   "execution_count": null,
   "id": "f406ef26",
   "metadata": {},
   "outputs": [],
   "source": [
    "# Fit the AI model according to the training data and parameter settings.\n",
    "ai_mod = ai_mod.fit(train_x, train_y)"
   ]
  },
  {
   "cell_type": "code",
   "execution_count": null,
   "id": "09d86c46",
   "metadata": {},
   "outputs": [],
   "source": [
    "# Show the model details.\n",
    "ai_mod"
   ]
  },
  {
   "cell_type": "markdown",
   "id": "ed0a82cc",
   "metadata": {},
   "source": [
    "What rank does it specify for the marital status feature? Is this feature important enough as you considered in the previous step?"
   ]
  },
  {
   "cell_type": "markdown",
   "id": "1519be6e",
   "metadata": {},
   "source": [
    "## **Task 7:** Perform feature extraction using Singular Value Decomposition\n",
    "\n",
    "Singular Value Decomposition (SVD) is an unsupervised algorithm for feature extraction. SVD is an orthogonal linear transformation that is optimal at capturing the underlying variance of the data. This property is very useful for reducing the dimensionality of high-dimensional data and for supporting meaningful data visualizations.\n",
    "\n",
    "> **Note** : For more information, visit [Singular Value Decomposition](https://docs.oracle.com/en/database/oracle/machine-learning/oml4sql/21/dmcon/singular-value-decomposition.html#GUID-703B237F-D9C5-4543-97DD-31A914BB6A05) documentation.\n",
    "\n",
    "At this step, you want to identify the most important features and how are these related to your customers attributes.\n"
   ]
  },
  {
   "cell_type": "code",
   "execution_count": null,
   "id": "5d8c69a0",
   "metadata": {},
   "outputs": [],
   "source": [
    "# Create an OML data frame proxy object in Python that represents your Oracle Database data set.\n",
    "oml_cust = oml.sync(table = \"CUST_INSUR_LTV\")\n",
    "oml_cust = oml_cust.drop('LTV')\n",
    "oml_cust.head()"
   ]
  },
  {
   "cell_type": "code",
   "execution_count": null,
   "id": "239bb395",
   "metadata": {},
   "outputs": [],
   "source": [
    "# Split the data set and create training and test data.\n",
    "ltv_dat = oml_cust.split() \n",
    "train_ltv = ltv_dat[0]\n",
    "test_ltv = ltv_dat[1]"
   ]
  },
  {
   "cell_type": "code",
   "execution_count": null,
   "id": "b052bf27",
   "metadata": {},
   "outputs": [],
   "source": [
    "# Specify settings.\n",
    "setting = {'SVDS_SCORING_MODE':'SVDS_SCORING_PCA', 'ODMS_DETAILS':'ODMS_ENABLE'}"
   ]
  },
  {
   "cell_type": "markdown",
   "id": "cd74f748",
   "metadata": {},
   "source": [
    "**Note** : For the complete list of settings, check the [`DBMS_DATA_MINING` — Global Settings](https://docs.oracle.com/en/database/oracle/oracle-database/21/arpls/DBMS_DATA_MINING.html#GUID-24047A09-0542-4870-91D8-329F28B0ED75) table.\n"
   ]
  },
  {
   "cell_type": "code",
   "execution_count": null,
   "id": "b08833fa",
   "metadata": {},
   "outputs": [],
   "source": [
    "# Create an SVD model object.\n",
    "svd_mod = oml.svd(**setting)"
   ]
  },
  {
   "cell_type": "markdown",
   "id": "79aaf0ad",
   "metadata": {},
   "source": [
    "**Note** : To understand this model, visit the [Singular Value Decomposition](https://docs.oracle.com/en/database/oracle/machine-learning/oml4py/1/mlpug/singular-value-decomposition.html#GUID-FA08B2D3-3DF4-4311-A30F-0DB085C7AFED) page in OML user guide.\n"
   ]
  },
  {
   "cell_type": "code",
   "execution_count": null,
   "id": "ed7a1dda",
   "metadata": {},
   "outputs": [],
   "source": [
    "# Fit the model according to the training data and parameter settings showing the model details.\n",
    "svd_mod = svd_mod.fit(train_ltv, case_id = 'CUST_ID')\n",
    "svd_mod"
   ]
  },
  {
   "cell_type": "code",
   "execution_count": null,
   "id": "f88d5a41",
   "metadata": {},
   "outputs": [],
   "source": [
    "# Use the model to make predictions on the test data.\n",
    "predictions = svd_mod.predict(test_ltv,\n",
    "                 supplemental_cols = test_ltv[:, ['CUST_ID','LAST',\n",
    "                                                  'FIRST','LTV_BIN']])\n",
    "predictions"
   ]
  },
  {
   "cell_type": "code",
   "execution_count": null,
   "id": "277a281c",
   "metadata": {},
   "outputs": [],
   "source": [
    "# List the most important features for customers classified as VERY HIGH.\n",
    "predictions[predictions['LTV_BIN'] \n",
    "        == 'VERY HIGH'].crosstab('LTV_BIN',\n",
    "                                 'FEATURE_ID').sort_values('count', \n",
    "                                                               ascending=False)"
   ]
  },
  {
   "cell_type": "code",
   "execution_count": null,
   "id": "19cbec6c",
   "metadata": {},
   "outputs": [],
   "source": [
    "# What about the most important features for customers classified as HIGH?\n",
    "predictions[predictions['LTV_BIN'] \n",
    "        == 'HIGH'].crosstab('LTV_BIN',\n",
    "                                 'FEATURE_ID').sort_values('count', \n",
    "                                                               ascending=False)"
   ]
  },
  {
   "cell_type": "code",
   "execution_count": null,
   "id": "b87d63c3",
   "metadata": {},
   "outputs": [],
   "source": [
    "# Verify the most important features for customers classified as MEDIUM.\n",
    "predictions[predictions['LTV_BIN'] \n",
    "        == 'MEDIUM'].crosstab('LTV_BIN',\n",
    "                                 'FEATURE_ID').sort_values('count', \n",
    "                                                               ascending=False)"
   ]
  },
  {
   "cell_type": "code",
   "execution_count": null,
   "id": "be183a3a",
   "metadata": {},
   "outputs": [],
   "source": [
    "# Finally, list the most important features for customers classified as LOW. Draw a conclusion.\n",
    "predictions[predictions['LTV_BIN'] \n",
    "        == 'LOW'].crosstab('LTV_BIN',\n",
    "                                 'FEATURE_ID').sort_values('count', \n",
    "                                                               ascending=False)"
   ]
  },
  {
   "cell_type": "code",
   "execution_count": null,
   "id": "805b1108",
   "metadata": {},
   "outputs": [],
   "source": [
    "# Perform dimensionality reduction and return values for the two features \n",
    "# that have the highest topN values.\n",
    "svd_mod.transform(test_ltv,\n",
    "                  supplemental_cols = test_ltv[:, ['CUST_ID', 'LTV_BIN']], \n",
    "                         topN = 2).sort_values(by = ['CUST_ID', 'TOP_1', 'TOP_1_VAL'])"
   ]
  },
  {
   "cell_type": "code",
   "execution_count": null,
   "id": "4fc7767d",
   "metadata": {},
   "outputs": [],
   "source": [
    "# List the most important customer attributes for the most important feature.\n",
    "svd_mod.features[svd_mod.features['FEATURE_ID'] \n",
    "                 == 1].sort_values('VALUE', ascending=False).head()"
   ]
  },
  {
   "cell_type": "markdown",
   "id": "a4404190",
   "metadata": {},
   "source": [
    "## **Task 8:** Automated Machine Learning: Algorithm Selection\n",
    "\n",
    "Automated Machine Learning (AutoML) provides a built-in expert system for data analytics and modeling that you can employ to build machine learning models.\n",
    "\n",
    "Any modeling problem for a specified data set and prediction task involves a sequence of data cleansing and preprocessing, algorithm selection, and model tuning tasks. Each of these steps require data science expertise to help guide the process to an efficient final model. Automated Machine Learning (AutoML) automates this process with its built-in data science expertise.\n",
    "\n",
    "> **Note** : For more information, visit [About Association](https://docs.oracle.com/en/database/oracle/machine-learning/oml4sql/21/dmcon/association.html#GUID-2FE196F3-94C5-4EDB-9AEC-40DCB43E8A89) documentation.\n",
    "\n",
    "At this step, you will use AutoML to select the best Oracle Machine Learning algorithm based on the characteristics of the data set and the task. No single algorithm works best for all modeling problems. AutoML ranks the candidate algorithms according to how likely each is to produce a quality model. Compare this to the first part of the workshop where you experimented with Decision Tree and Neural Networks algorithms manually.\n"
   ]
  },
  {
   "cell_type": "code",
   "execution_count": null,
   "id": "c6aaac68",
   "metadata": {},
   "outputs": [],
   "source": [
    "# Import automl from oml Python library.\n",
    "from oml import automl"
   ]
  },
  {
   "cell_type": "code",
   "execution_count": null,
   "id": "a5c05d47",
   "metadata": {},
   "outputs": [],
   "source": [
    "# Create an OML data frame proxy object that represents the database table. \n",
    "# Create two data sets, one for classification task called oml_cust_c, and \n",
    "# another for regression task called oml_cust_r.\n",
    "oml_cust = oml.sync(table = \"CUST_INSUR_LTV\")\n",
    "oml_cust_c = oml_cust.drop('LTV')\n",
    "oml_cust_r = oml_cust.drop('LTV_BIN')"
   ]
  },
  {
   "cell_type": "code",
   "execution_count": null,
   "id": "5c76cc8e",
   "metadata": {},
   "outputs": [],
   "source": [
    "# Split the data set into training and test data for classification task.\n",
    "train, test = oml_cust_c.split(ratio=(0.8, 0.2), seed = 1234) \n",
    "X, y = train.drop('LTV_BIN'), train['LTV_BIN']\n",
    "X_test, y_test = test.drop('LTV_BIN'), test['LTV_BIN']"
   ]
  },
  {
   "cell_type": "code",
   "execution_count": null,
   "id": "e3e20958",
   "metadata": {},
   "outputs": [],
   "source": [
    "# Create an automated algorithm selection object with f1_macro as the score_metric argument.\n",
    "asel_c = automl.AlgorithmSelection(mining_function='classification',\n",
    "                                   score_metric='f1_macro', parallel=4)"
   ]
  },
  {
   "cell_type": "markdown",
   "id": "82abc88d",
   "metadata": {},
   "source": [
    "**Note** : For more information, visit [Classification and Regression Metrics](https://docs.oracle.com/en/database/oracle/machine-learning/oml4py/1/mlpug/about-automl.html#GUID-9F514C2B-1772-4073-807F-3E829D5D558C) documentation.\n"
   ]
  },
  {
   "cell_type": "code",
   "execution_count": null,
   "id": "359cd42f",
   "metadata": {},
   "outputs": [],
   "source": [
    "# Run algorithm selection to get the top k predicted algorithms and their ranking without tuning.\n",
    "algo_ranking_c = asel_c.select(X, y, k=3)"
   ]
  },
  {
   "cell_type": "code",
   "execution_count": null,
   "id": "9caab0c9",
   "metadata": {},
   "outputs": [],
   "source": [
    "# Show the selected and tuned model.\n",
    "[(m, \"{:.2f}\".format(s)) for m,s in algo_ranking_c]"
   ]
  },
  {
   "cell_type": "code",
   "execution_count": null,
   "id": "e0532246",
   "metadata": {},
   "outputs": [],
   "source": [
    "# Split the data set into training and test data for regression task.\n",
    "train, test = oml_cust_r.split(ratio=(0.8, 0.2), seed = 1234) \n",
    "X, y = train.drop('LTV'), train['LTV']\n",
    "X_test, y_test = test.drop('LTV'), test['LTV']"
   ]
  },
  {
   "cell_type": "code",
   "execution_count": null,
   "id": "958a4cd0",
   "metadata": {},
   "outputs": [],
   "source": [
    "# Create an automated algorithm selection object with f1_macro as the score_metric argument.\n",
    "asel_r = automl.AlgorithmSelection(mining_function='regression',\n",
    "                                   score_metric='r2', parallel=4)"
   ]
  },
  {
   "cell_type": "code",
   "execution_count": null,
   "id": "918a2e1f",
   "metadata": {},
   "outputs": [],
   "source": [
    "# Run algorithm selection to get the top k predicted algorithms and their ranking without tuning.\n",
    "algo_ranking_r = asel_r.select(X, y, k=3)"
   ]
  },
  {
   "cell_type": "code",
   "execution_count": null,
   "id": "ad5e5af5",
   "metadata": {},
   "outputs": [],
   "source": [
    "# Show the selected and tuned model.\n",
    "[(m, \"{:.2f}\".format(s)) for m,s in algo_ranking_r]"
   ]
  },
  {
   "cell_type": "markdown",
   "id": "ac73d4fa",
   "metadata": {},
   "source": [
    "As you can see, AutoML is able to provide you the algorithms and a ranking of the algorithms best for the data set automatically for the Classification and Regression machine learning types."
   ]
  },
  {
   "cell_type": "markdown",
   "id": "041ab497",
   "metadata": {},
   "source": [
    "## **Task 9:** Automated Machine Learning: Feature Selection\n",
    "\n",
    "AutoML Feature Selection identifies the most relevant feature subsets for a training data set and an Oracle Machine Learning algorithm. In a data analytics application, feature selection is a critical data preprocessing step that has a high impact on both runtime and model performance.\n",
    "\n",
    "> **Note** : For more information on this algorithm, visit [Feature Selection](https://docs.oracle.com/en/database/oracle/machine-learning/oml4py/1/mlpug/feature-selection.html#GUID-576E9C37-6743-4DCC-8939-44772A5C41AB) documentation.\n",
    "\n",
    "In this AutoML example, you will reduce the number of features of your customers data set, and compare the accuracy score of a Support Vector Machine (SVM) algorithm for a classification task.\n"
   ]
  },
  {
   "cell_type": "code",
   "execution_count": null,
   "id": "91197a46",
   "metadata": {},
   "outputs": [],
   "source": [
    "# Create an OML data frame proxy object in Python that represents your Oracle Database data set.\n",
    "oml_cust = oml.sync(table = \"CUST_INSUR_LTV\").drop('LTV')\n",
    "oml_cust.head()"
   ]
  },
  {
   "cell_type": "code",
   "execution_count": null,
   "id": "f19d7af8",
   "metadata": {},
   "outputs": [],
   "source": [
    "# Split the data set into training and test data for classification task.\n",
    "train, test = oml_cust.split(ratio=(0.8, 0.2), seed = 1234,\n",
    "                             strata_cols = 'LTV_BIN') \n",
    "X_train, y_train = train.drop('LTV_BIN'), train['LTV_BIN']\n",
    "X_test, y_test = test.drop('LTV_BIN'), test['LTV_BIN']"
   ]
  },
  {
   "cell_type": "code",
   "execution_count": null,
   "id": "58790fd4",
   "metadata": {},
   "outputs": [],
   "source": [
    "# Default SVM model performance before feature selection.\n",
    "mod = oml.svm(mining_function='classification').fit(X_train, y_train)\n",
    "\"{:.2}\".format(mod.score(X_test, y_test))"
   ]
  },
  {
   "cell_type": "code",
   "execution_count": null,
   "id": "29c6c20d",
   "metadata": {},
   "outputs": [],
   "source": [
    "# Create an automated feature selection object with accuracy as the score_metric.\n",
    "fs = automl.FeatureSelection(mining_function='classification',\n",
    "                             score_metric='accuracy', parallel=4)"
   ]
  },
  {
   "cell_type": "code",
   "execution_count": null,
   "id": "bd89cadb",
   "metadata": {},
   "outputs": [],
   "source": [
    "# Get the reduced feature subset on the train data set. How many features \n",
    "# have been reduced from the original data set?\n",
    "subset = fs.reduce('svm_linear', X_train, y_train)\n",
    "\"{} features reduced to {}\".format(len(X_train.columns),\n",
    "                                   len(subset))"
   ]
  },
  {
   "cell_type": "code",
   "execution_count": null,
   "id": "45b77a13",
   "metadata": {},
   "outputs": [],
   "source": [
    "# Use the subset to select the features and create a SVM model on the new \n",
    "# reduced data set. Did your model accuracy improve with less features?\n",
    "X_new = X_train[:,subset]\n",
    "X_test_new = X_test[:,subset]\n",
    "mod = oml.svm(mining_function='classification').fit(X_new, y_train) \n",
    "\"{:.2} with {:.1f}x feature reduction\".format(mod.score(X_test_new, y_test), \n",
    "                                              len(X_train.columns)/len(X_new.columns))"
   ]
  },
  {
   "cell_type": "code",
   "execution_count": null,
   "id": "6bcab33c",
   "metadata": {},
   "outputs": [],
   "source": [
    "# For reproducible results, add CUST_ID column unique case identifier.\n",
    "train, test = oml_cust.split(ratio=(0.8, 0.2), seed = 1234,\n",
    "                             hash_cols='CUST_ID', strata_cols = 'LTV_BIN') \n",
    "X_train, y_train = train.drop('LTV_BIN'), train['LTV_BIN']\n",
    "X_test, y_test = test.drop('LTV_BIN'), test['LTV_BIN']"
   ]
  },
  {
   "cell_type": "code",
   "execution_count": null,
   "id": "5b434c98",
   "metadata": {},
   "outputs": [],
   "source": [
    "# Provide the CUST_ID column name to the feature selection reduce function. \n",
    "# Does it reduce more the number of features when case ID is provided?\n",
    "subset = fs.reduce('svm_linear', X_train,\n",
    "                   y_train, case_id='CUST_ID') \n",
    "\"{} features reduced to {} with case_id\".format(len(X_train.columns)-1, len(subset))"
   ]
  },
  {
   "cell_type": "markdown",
   "id": "d80ae012",
   "metadata": {},
   "source": [
    "## **Task 10:** Automated Machine Learning: Model Selection\n",
    "\n",
    "AutoML Model Selection automatically selects an Oracle Machine Learning algorithm according to the selected score metric and then tunes that algorithm. It supports classification and regression algorithms.\n",
    "\n",
    "> **Note** : For more information, visit [Model Selection](https://docs.oracle.com/en/database/oracle/machine-learning/oml4py/1/mlpug/model-selection.html#GUID-E2C3D9D2-D685-4AF7-8A04-32127A5CCF07) documentation.\n",
    "\n",
    "In this example, you will create an AutoML `ModelSelection` object and then use this object to select and tune the best model for your task.\n"
   ]
  },
  {
   "cell_type": "code",
   "execution_count": null,
   "id": "5a99fb7f",
   "metadata": {},
   "outputs": [],
   "source": [
    "# Create an OML data frame proxy object that represents your database table.\n",
    "oml_cust = oml.sync(table = \"CUST_INSUR_LTV\").drop('LTV')\n",
    "oml_cust.head()"
   ]
  },
  {
   "cell_type": "code",
   "execution_count": null,
   "id": "19845d51",
   "metadata": {},
   "outputs": [],
   "source": [
    "# Split the data set into training and test data for classification.\n",
    "train, test = oml_cust.split(ratio=(0.8, 0.2), seed = 1234) \n",
    "X, y = train.drop('LTV_BIN'), train['LTV_BIN']\n",
    "X_test, y_test = test.drop('LTV_BIN'), test['LTV_BIN']"
   ]
  },
  {
   "cell_type": "code",
   "execution_count": null,
   "id": "0227a6c9",
   "metadata": {},
   "outputs": [],
   "source": [
    "# Create an automated model selection object with f1_macro as the score_metric argument.\n",
    "ms = automl.ModelSelection(mining_function='classification',\n",
    "                           score_metric='f1_macro', parallel=4)"
   ]
  },
  {
   "cell_type": "code",
   "execution_count": null,
   "id": "4f57b717",
   "metadata": {},
   "outputs": [],
   "source": [
    "# Run model selection to get the top (k=1) predicted algorithm, that defaults to the tuned model.\n",
    "select_model = ms.select(X, y, k=1)"
   ]
  },
  {
   "cell_type": "code",
   "execution_count": null,
   "id": "a6859fd4",
   "metadata": {},
   "outputs": [],
   "source": [
    "# Show the selected and tuned model.\n",
    "select_model"
   ]
  },
  {
   "cell_type": "markdown",
   "id": "8aa30770",
   "metadata": {},
   "source": [
    "## **Task 11:** Automated Machine Learning: Model Tuning\n",
    "\n",
    "AutoML Model Tuning tunes the hyperparameters for the specified classification or regression algorithm and training data. This feature automates the tuning process using a highly-parallel, asynchronous gradient-based hyperparameter optimization algorithm. \n",
    "\n",
    "> **Note** : For more information on this algorithm, visit [Model Tuning](https://docs.oracle.com/en/database/oracle/machine-learning/oml4py/1/mlpug/model-tuning.html#GUID-0F5153CC-39E5-4189-9615-09D8F39D7FBF) documentation.\n",
    "\n",
    "In this case, you will execute an automated model tuning process for a classification task using Decision Tree (DT) algorithm.\n"
   ]
  },
  {
   "cell_type": "code",
   "execution_count": null,
   "id": "dba1f511",
   "metadata": {},
   "outputs": [],
   "source": [
    "# Create an OML data frame proxy object in Python that represents your Oracle Database data set.\n",
    "oml_cust = oml.sync(table = \"CUST_INSUR_LTV\").drop('LTV')\n",
    "oml_cust.head()"
   ]
  },
  {
   "cell_type": "code",
   "execution_count": null,
   "id": "c3afde61",
   "metadata": {},
   "outputs": [],
   "source": [
    "# Split the data set into training and test data for classification.\n",
    "train, test = oml_cust.split(ratio=(0.8, 0.2), seed = 1234) \n",
    "X, y = train.drop('LTV_BIN'), train['LTV_BIN']\n",
    "X_test, y_test = test.drop('LTV_BIN'), test['LTV_BIN']"
   ]
  },
  {
   "cell_type": "code",
   "execution_count": null,
   "id": "9ed2d151",
   "metadata": {},
   "outputs": [],
   "source": [
    "# Start an automated model tuning run with a DT model.\n",
    "at = automl.ModelTuning(mining_function='classification', parallel=4, \n",
    "                        score_metric='accuracy')\n",
    "results = at.tune('dt', X, y)"
   ]
  },
  {
   "cell_type": "markdown",
   "id": "b85067e7",
   "metadata": {},
   "source": [
    "**Note** : For more information, visit [Classification and Regression Metrics](https://docs.oracle.com/en/database/oracle/machine-learning/oml4py/1/mlpug/about-automl.html#GUID-9F514C2B-1772-4073-807F-3E829D5D558C) documentation.\n"
   ]
  },
  {
   "cell_type": "code",
   "execution_count": null,
   "id": "1f838d5e",
   "metadata": {},
   "outputs": [],
   "source": [
    "# Show the DT tuned model details.\n",
    "tuned_model = results['best_model'] \n",
    "tuned_model"
   ]
  },
  {
   "cell_type": "code",
   "execution_count": null,
   "id": "6d638cf7",
   "metadata": {},
   "outputs": [],
   "source": [
    "# Show the best tuned model train score and the corresponding hyperparameters.\n",
    "score, params = results['all_evals'][0] \n",
    "\"{:.2}\".format(score), [\"{}:{}\".format(k, params[k])\n",
    "                        for k in sorted(params)]"
   ]
  },
  {
   "cell_type": "code",
   "execution_count": null,
   "id": "36262398",
   "metadata": {},
   "outputs": [],
   "source": [
    "# Use the DT tuned model to get the score on the test set. How is the \n",
    "# score on the test data compared to the score on training data?\n",
    "\"{:.2}\".format(tuned_model.score(X_test, y_test))"
   ]
  },
  {
   "cell_type": "markdown",
   "id": "e5f77d8e",
   "metadata": {},
   "source": [
    "## Acknowledgements\n",
    "* **Authors** - Milton Wan, Valentin Leonard Tabacaru\n",
    "* **Last Updated By/Date** -  Valentin Leonard Tabacaru, July 2021\n",
    "    \n",
    "## Need Help?\n",
    "Please submit feedback or ask for help using our [LiveLabs Support Forum](https://community.oracle.com/tech/developers/categories/livelabsdiscussions). Please click the **Log In** button and login using your Oracle Account. Click the **Ask A Question** button to the left to start a *New Discussion* or *Ask a Question*.  Please include your workshop name and lab name.  You can also include screenshots and attach files.  Engage directly with the author of the workshop.\n",
    "    \n",
    "If you do not have an Oracle Account, click [here](https://profile.oracle.com/myprofile/account/create-account.jspx) to create one."
   ]
  },
  {
   "cell_type": "code",
   "execution_count": null,
   "id": "b18dd370",
   "metadata": {},
   "outputs": [],
   "source": []
  }
 ],
 "metadata": {
  "kernelspec": {
   "display_name": "Python 3",
   "language": "python",
   "name": "python3"
  },
  "language_info": {
   "codemirror_mode": {
    "name": "ipython",
    "version": 3
   },
   "file_extension": ".py",
   "mimetype": "text/x-python",
   "name": "python",
   "nbconvert_exporter": "python",
   "pygments_lexer": "ipython3",
   "version": "3.9.5"
  }
 },
 "nbformat": 4,
 "nbformat_minor": 5
}
