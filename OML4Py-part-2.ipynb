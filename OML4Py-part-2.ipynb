{
 "cells": [
  {
   "cell_type": "markdown",
   "id": "3ff3c2d0",
   "metadata": {},
   "source": [
    "# Oracle Machine Learning for Python (OML4Py) - part 2 (*optional*)\n",
    "\n",
    "## Introduction\n",
    "\n",
    "Before running this lab, make sure you have completed **Oracle Machine Learning for Python (OML4Py) - part 1**.\n",
    "    \n",
    "Estimated Lab Time: 1 hour 50 min\n",
    "\n",
    "In this lab, you will:\n",
    "* Use Automated Machine Learning Model Tuning to improve accuracy for a Random Forest model;\n",
    "* Identify patterns of association using Association Rules;\n",
    "* Implement Expectation Maximization and K-Means algorithms for customer clustering;\n",
    "* Practice Naive Bayes, Random Forest and Support Vector Machine algorithms for classification;\n",
    "* Sentiment Analysis on free text customer reviews and comments using binary classification."
   ]
  },
  {
   "cell_type": "code",
   "execution_count": null,
   "id": "1c6f8841",
   "metadata": {},
   "outputs": [],
   "source": [
    "# Run the following commands to get your hostname and pluggable database service name\n",
    "import os\n",
    "print('Hostname: ',os.uname()[1])\n",
    "stream = os.popen('lsnrctl status | grep mlpdb1')\n",
    "print(stream.read())"
   ]
  },
  {
   "cell_type": "code",
   "execution_count": null,
   "id": "45558dfb",
   "metadata": {},
   "outputs": [],
   "source": [
    "# Connect to your Oracle 21c Pluggable Database, and check connectivity.\n",
    "# Replace host and service_name argument values with the hostname and pluggable\n",
    "# database service name of your instance.\n",
    "import oml\n",
    "import pandas as pd\n",
    "oml.connect(user=\"oml_user\", password=\"MLlearnPTS#21_\", \n",
    "            host=\"oml001\", port=1521, \n",
    "            service_name=\"mlpdb1.sub07141037280.rehevcn.oraclevcn.com\",\n",
    "            automl=True)\n",
    "oml.isconnected()"
   ]
  },
  {
   "cell_type": "code",
   "execution_count": null,
   "id": "1a9e0a10",
   "metadata": {},
   "outputs": [],
   "source": [
    "# Open a cursor and verify database version.\n",
    "cr = oml.cursor()\n",
    "conn = cr.connection\n",
    "print(\"Database version:\", conn.version)"
   ]
  },
  {
   "cell_type": "markdown",
   "id": "05e86829",
   "metadata": {},
   "source": [
    "## **Task 11:** Automated Machine Learning: Model Tuning (continued)"
   ]
  },
  {
   "cell_type": "code",
   "execution_count": null,
   "id": "d216cfee",
   "metadata": {},
   "outputs": [],
   "source": [
    "# Import automl from oml Python library.\n",
    "from oml import automl\n",
    "# Create an OML data frame proxy object in Python that represents your Oracle Database data set.\n",
    "oml_cust = oml.sync(table = \"CUST_INSUR_LTV\").drop('LTV')\n",
    "oml_cust.head()"
   ]
  },
  {
   "cell_type": "code",
   "execution_count": null,
   "id": "a9fa5e4a",
   "metadata": {},
   "outputs": [],
   "source": [
    "# Split the data set into training and test data for classification.\n",
    "train, test = oml_cust.split(ratio=(0.8, 0.2), seed = 1234) \n",
    "X, y = train.drop('LTV_BIN'), train['LTV_BIN']\n",
    "X_test, y_test = test.drop('LTV_BIN'), test['LTV_BIN']"
   ]
  },
  {
   "cell_type": "code",
   "execution_count": null,
   "id": "d403a785",
   "metadata": {},
   "outputs": [],
   "source": [
    "# Optioanlly, an example invocation of model tuning with user-defined search \n",
    "# ranges for selected hyperparameters on a new tuning metric (f1_macro).\n",
    "search_space = {\n",
    "   'RFOR_SAMPLING_RATIO': {'type': 'continuous', 'range': [0.01, 0.5]},\n",
    "   'RFOR_NUM_TREES': {'type': 'discrete', 'range': [50, 100]},\n",
    "   'TREE_IMPURITY_METRIC': {'type': 'categorical',\n",
    "                            'range': ['TREE_IMPURITY_ENTROPY',\n",
    "                            'TREE_IMPURITY_GINI']},} "
   ]
  },
  {
   "cell_type": "code",
   "execution_count": null,
   "id": "02255cad",
   "metadata": {},
   "outputs": [],
   "source": [
    "# Start an automated model tuning run with a Random Forest (RF) model, for comparison.\n",
    "at = automl.ModelTuning(mining_function='classification', parallel=4, \n",
    "                        score_metric='accuracy')\n",
    "results = at.tune('rf', X, y, param_space=search_space) \n",
    "score, params = results['all_evals'][0]\n",
    "(\"{:.2}\".format(score), [\"{}:{}\".format(k, params[k]) for k in sorted(params)])"
   ]
  },
  {
   "cell_type": "code",
   "execution_count": null,
   "id": "01a77a49",
   "metadata": {},
   "outputs": [],
   "source": [
    "# Show the RF tuned model details.\n",
    "tuned_model = results['best_model'] \n",
    "tuned_model"
   ]
  },
  {
   "cell_type": "code",
   "execution_count": null,
   "id": "a705645f",
   "metadata": {},
   "outputs": [],
   "source": [
    "# Use the RF tuned model to get the score on the test set. \n",
    "# How is the score of RF model compared to DT model?\n",
    "\"{:.2}\".format(tuned_model.score(X_test, y_test))"
   ]
  },
  {
   "cell_type": "code",
   "execution_count": null,
   "id": "6be5e5e3",
   "metadata": {},
   "outputs": [],
   "source": [
    "# Some hyperparameter search ranges need to be defined based on the training \n",
    "# data set sizes (for example, the number of samples and features). You can \n",
    "# use placeholders specific to the data set, such as $nr_features and \n",
    "# $nr_samples, as the search ranges.\n",
    "search_space = {'RFOR_MTRY': {'type': 'discrete',\n",
    "                              'range': [1, '$nr_features/2']}}\n",
    "results = at.tune('rf', X, y, param_space=search_space)\n",
    "score, params = results['all_evals'][0] \n",
    "(\"{:.2}\".format(score), [\"{}:{}\".format(k, params[k])\n",
    "                         for k in sorted(params)])"
   ]
  },
  {
   "cell_type": "markdown",
   "id": "1605ae6f",
   "metadata": {},
   "source": [
    "## **Task 12:** Identify patterns of association with Association Rules\n",
    "\n",
    "Association is an Oracle Machine Learning function that discovers the probability of the co-occurrence of items in a collection. The relationships between co-occurring items are expressed as Association Rules (AR).\n",
    "\n",
    "> **Note** : For more information, visit [About Association](https://docs.oracle.com/en/database/oracle/machine-learning/oml4sql/21/dmcon/association.html#GUID-2FE196F3-94C5-4EDB-9AEC-40DCB43E8A89) documentation.\n",
    "\n",
    "At this step, you want to identify the relationship between your customers marital status and their LVT class.\n"
   ]
  },
  {
   "cell_type": "code",
   "execution_count": null,
   "id": "5c7e5787",
   "metadata": {},
   "outputs": [],
   "source": [
    "# Create training data. For this exercise, use a query to retrieve \n",
    "# necessary values from CUST_INSUR_LTV table.\n",
    "train_dat = oml.sync(query = 'select CUST_ID, MARITAL_STATUS, LTV_BIN from CUST_INSUR_LTV')\n",
    "train_dat\n",
    "# Notice at this step you create an OML data frame from a database query, \n",
    "# instead of a database table, using the same oml.sync transparency layer function."
   ]
  },
  {
   "cell_type": "code",
   "execution_count": null,
   "id": "62756100",
   "metadata": {},
   "outputs": [],
   "source": [
    "# Count insurance customers in your training data frame by MARITAL_STATUS \n",
    "# and LTV_BIN attributes.\n",
    "train_dat.crosstab('MARITAL_STATUS', \n",
    "                   'LTV_BIN').sort_values(['MARITAL_STATUS', \n",
    "                                           'LTV_BIN'])"
   ]
  },
  {
   "cell_type": "code",
   "execution_count": null,
   "id": "97a8dd53",
   "metadata": {},
   "outputs": [],
   "source": [
    "# Convert data set to a pivot table using MARITAL_STATUS \n",
    "# and LTV_BIN as columns containing the keys to group by.\n",
    "train_dat.pivot_table('MARITAL_STATUS', 'LTV_BIN', \n",
    "                      aggfunc = oml.DataFrame.count)"
   ]
  },
  {
   "cell_type": "code",
   "execution_count": null,
   "id": "3df0b2d9",
   "metadata": {},
   "outputs": [],
   "source": [
    "# Specify settings.\n",
    "setting = {'asso_min_support':'0.15', 'asso_min_confidence':'0.15'}"
   ]
  },
  {
   "cell_type": "markdown",
   "id": "bc07df40",
   "metadata": {},
   "source": [
    "**Note** : For the complete list of settings, check the [Machine Learning Function Settings](https://docs.oracle.com/en/database/oracle/oracle-database/21/arpls/DBMS_DATA_MINING.html#GUID-CE514371-EC80-41EA-AB07-7F6501687D12) table for Association.\n"
   ]
  },
  {
   "cell_type": "code",
   "execution_count": null,
   "id": "24fc22fd",
   "metadata": {},
   "outputs": [],
   "source": [
    "# Create an AR model object.\n",
    "ar_mod = oml.ar(**setting)"
   ]
  },
  {
   "cell_type": "markdown",
   "id": "242d780d",
   "metadata": {},
   "source": [
    "**Note** : To understand this model, visit the [Association Rules](https://docs.oracle.com/en/database/oracle/machine-learning/oml4py/1/mlpug/association-rules.html#GUID-4D047EAC-D134-49D7-A532-AB3B8A95DFA3) page in OML user guide.\n"
   ]
  },
  {
   "cell_type": "code",
   "execution_count": null,
   "id": "60ec8f62",
   "metadata": {},
   "outputs": [],
   "source": [
    "# Fit the model according to the training data and parameter settings. \n",
    "# case_id parameter represents the name of a column that contains unique case identifiers.\n",
    "ar_mod = ar_mod.fit(train_dat, case_id = 'CUST_ID')"
   ]
  },
  {
   "cell_type": "code",
   "execution_count": null,
   "id": "a2590a0f",
   "metadata": {},
   "outputs": [],
   "source": [
    "# Show details of the model.\n",
    "ar_mod"
   ]
  },
  {
   "cell_type": "code",
   "execution_count": null,
   "id": "609d0452",
   "metadata": {},
   "outputs": [],
   "source": [
    "# Specify new settings for your Association machine learning function.\n",
    "setting = {'asso_min_support':'0.1', 'asso_min_confidence':'0.1'}"
   ]
  },
  {
   "cell_type": "code",
   "execution_count": null,
   "id": "daa72a72",
   "metadata": {},
   "outputs": [],
   "source": [
    "# Re-create an AR model object with new settings.\n",
    "ar_mod = oml.ar(**setting)"
   ]
  },
  {
   "cell_type": "code",
   "execution_count": null,
   "id": "5fb365a8",
   "metadata": {},
   "outputs": [],
   "source": [
    "# Fit the model according to the training data and parameter settings, and \n",
    "# show model details. case_id parameter represents the name of a column that \n",
    "# contains unique case identifiers.\n",
    "ar_mod = ar_mod.fit(train_dat, case_id = 'CUST_ID')    \n",
    "ar_mod"
   ]
  },
  {
   "cell_type": "markdown",
   "id": "64635745",
   "metadata": {},
   "source": [
    "Do you see any relationship between your customers marital status and their LVT class?"
   ]
  },
  {
   "cell_type": "markdown",
   "id": "fda7a0fe",
   "metadata": {},
   "source": [
    "## **Task 13:** Cluster customers using Expectation Maximization\n",
    "\n",
    "Clustering analysis finds clusters of data objects that are similar to one another. The members of a cluster are more like each other than they are like members of other clusters. Clustering, like classification, is used to group or segment the data. Unlike classification, clustering models segment data into groups that were not previously defined, called unsupervised.\n",
    "\n",
    "Expectation Maximization (EM) is a probabilistic, density-estimation clustering algorithm.\n",
    "\n",
    "> **Note** : For more information on this algorithm, visit [Expectation Maximization](https://docs.oracle.com/en/database/oracle/machine-learning/oml4sql/21/dmcon/expectation-maximization.html#GUID-F4D117F3-FA0C-4CA4-9034-67D12339AE90) documentation.\n",
    "\n",
    "Similar to K-Means (KM) clustering analysis, this is a market segmentation example, you group customers in four clusters, and you will let the algorithm define these four segments.\n"
   ]
  },
  {
   "cell_type": "code",
   "execution_count": null,
   "id": "80ca8f56",
   "metadata": {},
   "outputs": [],
   "source": [
    "# Generate an OML data frame from your database table. \n",
    "# Use the entire data set, attributes and labels.\n",
    "oml_cust = oml.sync(table = \"CUST_INSUR_LTV\") \n",
    "oml_cust.head()"
   ]
  },
  {
   "cell_type": "code",
   "execution_count": null,
   "id": "06be2709",
   "metadata": {},
   "outputs": [],
   "source": [
    "# Split the data set into training and test data. Use 75% train and 25% test ratio.\n",
    "ltv_dat = oml_cust.split(ratio=(.75, .25)) \n",
    "[split.shape for split in ltv_dat]"
   ]
  },
  {
   "cell_type": "code",
   "execution_count": null,
   "id": "eeb0e39a",
   "metadata": {},
   "outputs": [],
   "source": [
    "# Create training data and test data.\n",
    "train_ltv = ltv_dat[0]\n",
    "test_ltv = ltv_dat[1]"
   ]
  },
  {
   "cell_type": "code",
   "execution_count": null,
   "id": "81e0d04a",
   "metadata": {},
   "outputs": [],
   "source": [
    "# Specify algorithm settings.\n",
    "setting = {'emcs_num_iterations': 100}"
   ]
  },
  {
   "cell_type": "markdown",
   "id": "7a2afb16",
   "metadata": {},
   "source": [
    "**Note** : For more information, visit [Algorithm Settings: Expectation Maximization](https://docs.oracle.com/en/database/oracle/oracle-database/21/arpls/DBMS_DATA_MINING.html#GUID-1796B451-BE1B-43BC-9839-05F5F73031C8) documentation.\n"
   ]
  },
  {
   "cell_type": "code",
   "execution_count": null,
   "id": "6ed89344",
   "metadata": {},
   "outputs": [],
   "source": [
    "# Create an EM model object.\n",
    "em_mod = oml.em(n_clusters = 4, **setting)"
   ]
  },
  {
   "cell_type": "markdown",
   "id": "6c64c3f1",
   "metadata": {},
   "source": [
    "**Note** : To understand this model, visit the [Expectation Maximization](https://docs.oracle.com/en/database/oracle/machine-learning/oml4py/1/mlpug/expectation-maximization.html#GUID-09B57195-6672-4DDC-943B-24F74A9B41AB) page in OML user guide.\n"
   ]
  },
  {
   "cell_type": "code",
   "execution_count": null,
   "id": "eee896c1",
   "metadata": {},
   "outputs": [],
   "source": [
    "# Fit the EM model according to the training data and parameter settings.\n",
    "em_mod = em_mod.fit(train_ltv)"
   ]
  },
  {
   "cell_type": "code",
   "execution_count": null,
   "id": "6a933c4e",
   "metadata": {},
   "outputs": [],
   "source": [
    "# Show details of the model.\n",
    "em_mod"
   ]
  },
  {
   "cell_type": "markdown",
   "id": "6c349c23",
   "metadata": {},
   "source": [
    "Convergence means the optimal solution has been reached and the iterations of the optimization has come to an end. EM has limited capacity for modeling high dimensional (wide) data. The presence of many attributes slows down model convergence, and the algorithm becomes less able to distinguish between meaningful attributes and noise. The algorithm is thus compromised in its ability to find correlations."
   ]
  },
  {
   "cell_type": "code",
   "execution_count": null,
   "id": "4e690cd2",
   "metadata": {},
   "outputs": [],
   "source": [
    "# Did your EM model converge?\n",
    "em_mod.global_stats[em_mod.global_stats['attribute name'] == 'CONVERGED']"
   ]
  },
  {
   "cell_type": "code",
   "execution_count": null,
   "id": "850abc9e",
   "metadata": {},
   "outputs": [],
   "source": [
    "# What are the attributes your EM model considered as most important?\n",
    "em_mod.attribute_importance.sort_values('ATTRIBUTE_RANK')"
   ]
  },
  {
   "cell_type": "code",
   "execution_count": null,
   "id": "6961aead",
   "metadata": {},
   "outputs": [],
   "source": [
    "# Increase the maximum number of iterations in the EM algorithm.\n",
    "setting = {'emcs_num_iterations': 200}"
   ]
  },
  {
   "cell_type": "code",
   "execution_count": null,
   "id": "1abd48f6",
   "metadata": {},
   "outputs": [],
   "source": [
    "# Recreate an EM model object using new settings.\n",
    "em_mod = oml.em(n_clusters = 4, **setting)"
   ]
  },
  {
   "cell_type": "code",
   "execution_count": null,
   "id": "b09d51e1",
   "metadata": {},
   "outputs": [],
   "source": [
    "# Refit the EM model using only the attributes identified by AI model.\n",
    "em_mod = em_mod.fit(train_ltv[['N_MORTGAGES','HOUSE_OWNERSHIP',\n",
    "                           'MORTGAGE_AMOUNT','N_TRANS_WEB_BANK',\n",
    "                           'N_OF_DEPENDENTS','AGE','MARITAL_STATUS',\n",
    "                           'TIME_AS_CUSTOMER']])"
   ]
  },
  {
   "cell_type": "code",
   "execution_count": null,
   "id": "6f83f0d2",
   "metadata": {},
   "outputs": [],
   "source": [
    "# Show details of the model. Did your EM model converge this time?\n",
    "em_mod"
   ]
  },
  {
   "cell_type": "code",
   "execution_count": null,
   "id": "86df150e",
   "metadata": {},
   "outputs": [],
   "source": [
    "# Use the model to make predictions on the test data. Each customer in the test data \n",
    "# frame is assigned to one cluster. Clusters are identified by the CLUSTER_ID column.\n",
    "em_mod.predict(test_ltv, supplemental_cols = test_ltv[:, ['CUST_ID','LAST',\n",
    "                                                          'FIRST','LTV_BIN']])"
   ]
  },
  {
   "cell_type": "code",
   "execution_count": null,
   "id": "ccffd167",
   "metadata": {},
   "outputs": [],
   "source": [
    "# Retrieve the CLUSTER_ID for the four clusters.\n",
    "em_mod.predict(test_ltv).drop_duplicates().sort_values('CLUSTER_ID')"
   ]
  },
  {
   "cell_type": "code",
   "execution_count": null,
   "id": "80137a6c",
   "metadata": {},
   "outputs": [],
   "source": [
    "# Count cluster members grouped by predefined life-time value class.\n",
    "em_mod.predict(test_ltv, \n",
    "      supplemental_cols = test_ltv[:, \n",
    "                 ['LTV_BIN']]).crosstab('LTV_BIN', \n",
    "                                 'CLUSTER_ID').sort_values('CLUSTER_ID')"
   ]
  },
  {
   "cell_type": "code",
   "execution_count": null,
   "id": "b7b11fd9",
   "metadata": {},
   "outputs": [],
   "source": [
    "# Can you state that the four clusters are based on the predefined life-time \n",
    "# value classes? Create an OML data frame with these predictions so you can investigate.\n",
    "predictions = em_mod.predict(test_ltv, \n",
    "                             supplemental_cols = test_ltv[:, ['LTV', \n",
    "                                                              'LTV_BIN']])\n",
    "predictions"
   ]
  },
  {
   "cell_type": "code",
   "execution_count": null,
   "id": "e8c68515",
   "metadata": {},
   "outputs": [],
   "source": [
    "# Plot these clusters using cluster ID on x-axis, and LTV value on y-axis. \n",
    "# This way you can see if there is any relationship between predefined classes and \n",
    "# clusters (cluster IDs have been changed, ID 3 is 1, ID 5 is 2, ID 6 is 3, and ID 7 is 4).\n",
    "import matplotlib.pyplot as plt\n",
    "plt.rcParams[\"figure.figsize\"] = (8,10)\n",
    "plt.plot(predictions[predictions['CLUSTER_ID'] == 3].pull()[['CLUSTER_ID']].replace({3:1}), \n",
    "         predictions[predictions['CLUSTER_ID'] == 3].pull()[['LTV']], 'ro',\n",
    "         predictions[predictions['CLUSTER_ID'] == 5].pull()[['CLUSTER_ID']].replace({5:2}), \n",
    "         predictions[predictions['CLUSTER_ID'] == 5].pull()[['LTV']], 'go',\n",
    "         predictions[predictions['CLUSTER_ID'] == 6].pull()[['CLUSTER_ID']].replace({6:3}), \n",
    "         predictions[predictions['CLUSTER_ID'] == 6].pull()[['LTV']], 'bo',\n",
    "         predictions[predictions['CLUSTER_ID'] == 7].pull()[['CLUSTER_ID']].replace({7:4}), \n",
    "         predictions[predictions['CLUSTER_ID'] == 7].pull()[['LTV']], 'mo', alpha=0.15)\n",
    "plt.xlabel('Cluster 3-red, 5-green, 6-blue, 7-magenta')\n",
    "plt.ylabel('LTV')\n",
    "plt.show()"
   ]
  },
  {
   "cell_type": "markdown",
   "id": "f656c57b",
   "metadata": {},
   "source": [
    "## **Task 14:** Classify customer records using Naive Bayes algorithm\n",
    "\n",
    "Naive Bayes (NB) algorithm is based on conditional probabilities. It uses Bayes' theorem, a formula that calculates a probability by counting the frequency of values and combinations of values in the historical data.\n",
    "\n",
    "> **Note** : For more information on this algorithm, visit [Naive Bayes](https://docs.oracle.com/en/database/oracle/machine-learning/oml4sql/21/dmcon/naive-bayes.html#GUID-BB77D68D-3E07-4522-ACB6-FD6723BDA92A) documentation.\n",
    "\n",
    "In this example, you will classify your customers in four `LTV_BIN` classes (*LOW*, *MEDIUM*, *HIGH*, and *VERY HIGH*), based on combinations of feature values and their probability of occurrence.\n"
   ]
  },
  {
   "cell_type": "code",
   "execution_count": null,
   "id": "bd7f199f",
   "metadata": {},
   "outputs": [],
   "source": [
    "# Create an OML data frame proxy object in Python that represents your \n",
    "# Oracle Database data set.\n",
    "oml_cust = oml.sync(table = \"CUST_INSUR_LTV\")\n",
    "oml_cust = oml_cust.drop('LTV')\n",
    "oml_cust.head()"
   ]
  },
  {
   "cell_type": "code",
   "execution_count": null,
   "id": "8ee1efb0",
   "metadata": {},
   "outputs": [],
   "source": [
    "# Split the data set into training and test data.\n",
    "ltv_dat = oml_cust.split() \n",
    "[split.shape for split in ltv_dat]"
   ]
  },
  {
   "cell_type": "code",
   "execution_count": null,
   "id": "7945dbf3",
   "metadata": {},
   "outputs": [],
   "source": [
    "# Create training data and test data.\n",
    "train_x = ltv_dat[0].drop('LTV_BIN') \n",
    "train_y = ltv_dat[0]['LTV_BIN']\n",
    "test_ltv = ltv_dat[1]"
   ]
  },
  {
   "cell_type": "code",
   "execution_count": null,
   "id": "72f2df26",
   "metadata": {},
   "outputs": [],
   "source": [
    "# Provide user specified settings for the mining function.\n",
    "setting = {'CLAS_WEIGHTS_BALANCED': 'ON'}"
   ]
  },
  {
   "cell_type": "markdown",
   "id": "0e65d6bd",
   "metadata": {},
   "source": [
    "**Note** : For the complete list of settings, check the [Machine Learning Function Settings](https://docs.oracle.com/en/database/oracle/oracle-database/21/arpls/DBMS_DATA_MINING.html#GUID-CE514371-EC80-41EA-AB07-7F6501687D12) table for Classification.\n"
   ]
  },
  {
   "cell_type": "code",
   "execution_count": null,
   "id": "4b3c6034",
   "metadata": {},
   "outputs": [],
   "source": [
    "# Create a NB model object.\n",
    "nb_mod = oml.nb(**setting)"
   ]
  },
  {
   "cell_type": "markdown",
   "id": "94f4dfc8",
   "metadata": {},
   "source": [
    "**Note** : To understand this model, visit the [Naive Bayes](https://docs.oracle.com/en/database/oracle/machine-learning/oml4py/1/mlpug/naive-bayes.html#GUID-93F305B0-1691-429E-B804-F8A56F29F8C6) page in OML user guide.\n"
   ]
  },
  {
   "cell_type": "code",
   "execution_count": null,
   "id": "8cc92906",
   "metadata": {},
   "outputs": [],
   "source": [
    "# Fit the NB model according to the training data and parameter settings.\n",
    "nb_mod = nb_mod.fit(train_x, train_y, case_id = 'CUST_ID')"
   ]
  },
  {
   "cell_type": "code",
   "execution_count": null,
   "id": "15deba2a",
   "metadata": {},
   "outputs": [],
   "source": [
    "# Show details of the model. A prior probability distribution, often simply \n",
    "# called the prior, represent the relative proportions of customers by each \n",
    "# pre-defined class. What are your NB model default priors?\n",
    "nb_mod"
   ]
  },
  {
   "cell_type": "code",
   "execution_count": null,
   "id": "ebeb7f09",
   "metadata": {},
   "outputs": [],
   "source": [
    "# List the 10 most important conditionals for customer to be in LTV_BIN class \n",
    "# VERY HIGH and their probability of occurrence.\n",
    "nb_mod.conditionals[\n",
    "    nb_mod.conditionals['TARGET_VALUE'] \n",
    "    == 'VERY HIGH'].sort_values('CONDITIONAL_PROBABILITY', \n",
    "                                ascending=False)[['ATTRIBUTE_NAME', 'ATTRIBUTE_VALUE', \n",
    "                                                  'CONDITIONAL_PROBABILITY', 'COUNT']].head(10)"
   ]
  },
  {
   "cell_type": "markdown",
   "id": "459303b1",
   "metadata": {},
   "source": [
    "Can you list the 5 most important conditionals for customer to be in LTV_BIN class LOW and their probability of occurrence?"
   ]
  },
  {
   "cell_type": "code",
   "execution_count": null,
   "id": "bad330c2",
   "metadata": {},
   "outputs": [],
   "source": [
    "# Use the model to make predictions on test data.\n",
    "nb_mod.predict(test_ltv.drop('LTV_BIN'),\n",
    "               supplemental_cols = test_ltv[:, ['CUST_ID','LAST',\n",
    "                                                'FIRST','LTV_BIN']]).head(25)"
   ]
  },
  {
   "cell_type": "code",
   "execution_count": null,
   "id": "b1020644",
   "metadata": {},
   "outputs": [],
   "source": [
    "# Make predictions on new data and return the mean accuracy to score your model. \n",
    "# Is your model accurate?\n",
    "nb_mod.score(test_ltv.drop('LTV_BIN'), test_ltv[:, ['LTV_BIN']])"
   ]
  },
  {
   "cell_type": "code",
   "execution_count": null,
   "id": "9865113e",
   "metadata": {},
   "outputs": [],
   "source": [
    "# There are ways to improve model accuracy. To correct for unrealistic distributions \n",
    "# in the training data, you can specify priors for the model build process.\n",
    "oml_cust[['LTV_BIN']].crosstab('LTV_BIN')"
   ]
  },
  {
   "cell_type": "code",
   "execution_count": null,
   "id": "1083f77f",
   "metadata": {},
   "outputs": [],
   "source": [
    "# Calculate priors based on entire data set.\n",
    "oml_cust[['LTV_BIN']].crosstab('LTV_BIN').concat(oml_cust[[\n",
    "                        'LTV_BIN']].crosstab('LTV_BIN').rename({'count':\n",
    "                                       'prior'})['prior']/15342).round(2)"
   ]
  },
  {
   "cell_type": "markdown",
   "id": "262ae3a6",
   "metadata": {},
   "source": [
    "**Note** : Costs, prior probabilities, and class weights are methods for biasing classification models. For more information, read [Priors and Class Weights](https://docs.oracle.com/en/database/oracle/machine-learning/oml4sql/21/dmcon/classification.html#GUID-590DD2C5-1BA5-40A3-9E3E-92AA2AE1D0EC) documentation.\n"
   ]
  },
  {
   "cell_type": "code",
   "execution_count": null,
   "id": "60ea0456",
   "metadata": {},
   "outputs": [],
   "source": [
    "# Create a priors table in the database.\n",
    "try:\n",
    "   oml.drop('NB_PRIOR_PROBABILITY_LTV') \n",
    "except: \n",
    "   pass\n",
    "priors = {'LOW': 0.09, 'MEDIUM': 0.33, 'HIGH': 0.48, 'VERY HIGH': 0.1}\n",
    "priors = oml.create(pd.DataFrame(list(priors.items()),\n",
    "                     columns = ['TARGET_VALUE', 'PRIOR_PROBABILITY']),\n",
    "                     table = 'NB_PRIOR_PROBABILITY_LTV')"
   ]
  },
  {
   "cell_type": "code",
   "execution_count": null,
   "id": "357f9fb7",
   "metadata": {},
   "outputs": [],
   "source": [
    "# Change the setting parameter and refit the model with your user-defined prior table.\n",
    "new_setting = {'CLAS_WEIGHTS_BALANCED': 'OFF'}\n",
    "nb_mod = nb_mod.set_params(**new_setting).fit(train_x, train_y, \n",
    "                                     case_id='CUST_ID', priors = priors)"
   ]
  },
  {
   "cell_type": "code",
   "execution_count": null,
   "id": "3d41adde",
   "metadata": {},
   "outputs": [],
   "source": [
    "# Show details of the new model.\n",
    "nb_mod"
   ]
  },
  {
   "cell_type": "code",
   "execution_count": null,
   "id": "4c841495",
   "metadata": {},
   "outputs": [],
   "source": [
    "# Use the new model to make predictions on test data.\n",
    "nb_mod.predict(test_ltv.drop('LTV_BIN'),\n",
    "               supplemental_cols = test_ltv[:, ['CUST_ID','LAST',\n",
    "                                                'FIRST','LTV_BIN']]).head(25)"
   ]
  },
  {
   "cell_type": "code",
   "execution_count": null,
   "id": "aff72e5a",
   "metadata": {},
   "outputs": [],
   "source": [
    "# Make predictions on test data and return the new mean accuracy. \n",
    "# How much did your model accuracy improve?\n",
    "nb_mod.score(test_ltv.drop('LTV_BIN'), test_ltv[:, ['LTV_BIN']])"
   ]
  },
  {
   "cell_type": "code",
   "execution_count": null,
   "id": "91d32ae7",
   "metadata": {},
   "outputs": [],
   "source": [
    "# Change the setting parameter and refit the model, using the same user-defined prior table.\n",
    "new_setting = {'CLAS_WEIGHTS_BALANCED': 'OFF',\n",
    "               'NABS_PAIRWISE_THRESHOLD': 0.022,\n",
    "               'NABS_SINGLETON_THRESHOLD': 0.025}\n",
    "nb_mod = nb_mod.set_params(**new_setting).fit(train_x, train_y, \n",
    "                                     case_id='CUST_ID', priors = priors)"
   ]
  },
  {
   "cell_type": "markdown",
   "id": "5b545f31",
   "metadata": {},
   "source": [
    "**Note** : For more information, visit [Algorithm Settings: Naive Bayes](https://docs.oracle.com/en/database/oracle/oracle-database/21/arpls/DBMS_DATA_MINING.html#GUID-A04C5F4E-1303-44DC-A7DA-185C969330C8) documentation.\n"
   ]
  },
  {
   "cell_type": "code",
   "execution_count": null,
   "id": "fc75763e",
   "metadata": {},
   "outputs": [],
   "source": [
    "# Make predictions on test data and return the mean accuracy. \n",
    "# Did your model accuracy improve with the new settings but using the same priors table?\n",
    "nb_mod.score(test_ltv.drop('LTV_BIN'), test_ltv[:, ['LTV_BIN']])"
   ]
  },
  {
   "cell_type": "markdown",
   "id": "794bea3c",
   "metadata": {},
   "source": [
    "## **Task 15:** Classify and rank attributes with Random Forest\n",
    "\n",
    "Random Forest is a classification algorithm that builds an ensemble (forest) of trees. The algorithm builds a number of Decision Tree models and predicts using the ensemble. An individual decision tree is built by choosing a random sample from the training data set as the input. At each node of the tree, only a random sample of predictors is chosen for computing the split point. This introduces variation in the data used by the different trees in the forest.\n",
    "\n",
    "> **Note** : For more information on this algorithm, visit [Random Forest](https://docs.oracle.com/en/database/oracle/machine-learning/oml4sql/21/dmcon/random-forest.html#GUID-B6506C33-8555-4181-993F-CD7D48B4DA3C) documentation.\n",
    "\n",
    "In this example, you will use a Random Forest model to classify your customers in four `LTV_BIN` classes (*LOW*, *MEDIUM*, *HIGH*, and *VERY HIGH*), and provide attribute importance ranking of predictors.\n"
   ]
  },
  {
   "cell_type": "code",
   "execution_count": null,
   "id": "1e7ecac0",
   "metadata": {},
   "outputs": [],
   "source": [
    "# Create an OML data frame proxy object that represents your database table.\n",
    "oml_cust = oml.sync(table = \"CUST_INSUR_LTV\")\n",
    "oml_cust = oml_cust.drop('LTV')\n",
    "oml_cust.head()"
   ]
  },
  {
   "cell_type": "code",
   "execution_count": null,
   "id": "7f7dee29",
   "metadata": {},
   "outputs": [],
   "source": [
    "# Split the data set into training and test data. Use 75% train and 25% test ratio.\n",
    "ltv_dat = oml_cust.split(ratio=(.75, .25)) \n",
    "[split.shape for split in ltv_dat]"
   ]
  },
  {
   "cell_type": "code",
   "execution_count": null,
   "id": "026afac2",
   "metadata": {},
   "outputs": [],
   "source": [
    "# Create training data and test data.\n",
    "train_x = ltv_dat[0].drop('LTV_BIN') \n",
    "train_y = ltv_dat[0]['LTV_BIN']\n",
    "test_ltv = ltv_dat[1]"
   ]
  },
  {
   "cell_type": "code",
   "execution_count": null,
   "id": "58d8ed72",
   "metadata": {},
   "outputs": [],
   "source": [
    "# Create a cost matrix table in the database.\n",
    "try:\n",
    "   oml.drop('LTV_COST_MATRIX') \n",
    "except: \n",
    "   pass\n",
    "cost_matrix = [['LOW', 'LOW', 0],\n",
    "               ['LOW', 'MEDIUM', 0.3], \n",
    "               ['LOW', 'HIGH', 0.3], \n",
    "               ['LOW', 'VERY HIGH', 0.4], \n",
    "               ['MEDIUM', 'LOW', 0.4], \n",
    "               ['MEDIUM', 'MEDIUM', 0], \n",
    "               ['MEDIUM', 'HIGH', 0.3], \n",
    "               ['MEDIUM', 'VERY HIGH', 0.3], \n",
    "               ['HIGH', 'LOW', 0.5], \n",
    "               ['HIGH', 'MEDIUM', 0.3], \n",
    "               ['HIGH', 'HIGH', 0], \n",
    "               ['HIGH', 'VERY HIGH', 0.2], \n",
    "               ['VERY HIGH', 'LOW', 0.6], \n",
    "               ['VERY HIGH', 'MEDIUM', 0.3], \n",
    "               ['VERY HIGH', 'HIGH', 0.1], \n",
    "               ['VERY HIGH', 'VERY HIGH', 0]]\n",
    "cost_matrix = oml.create( pd.DataFrame(cost_matrix,\n",
    "                          columns = ['ACTUAL_TARGET_VALUE', \n",
    "                                     'PREDICTED_TARGET_VALUE', \n",
    "                                     'COST']),\n",
    "                          table = 'LTV_COST_MATRIX')"
   ]
  },
  {
   "cell_type": "markdown",
   "id": "083993bd",
   "metadata": {},
   "source": [
    "**Note** : For more information, visit [Cost Matrix Table](https://docs.oracle.com/en/database/oracle/oracle-database/21/arpls/DBMS_DATA_MINING.html#GUID-CF6EB584-8FE9-44F5-BAC0-0751DC094CCE__CACBEFFJ) documentation.\n"
   ]
  },
  {
   "cell_type": "code",
   "execution_count": null,
   "id": "3ea6ed7b",
   "metadata": {},
   "outputs": [],
   "source": [
    "# Create an RF model object.\n",
    "rf_mod = oml.rf(tree_term_max_depth = '2')"
   ]
  },
  {
   "cell_type": "markdown",
   "id": "832c8157",
   "metadata": {},
   "source": [
    "**Note** : For more information, visit [Algorithm Settings: Decision Tree](https://docs.oracle.com/en/database/oracle/oracle-database/21/arpls/DBMS_DATA_MINING.html#GUID-03435110-D723-42FD-B4EA-39C86A039566) documentation.\n",
    "\n",
    "**Note** : To understand this model, visit the [Random Forest](https://docs.oracle.com/en/database/oracle/machine-learning/oml4py/1/mlpug/random-forest.html#GUID-C157A3B8-B26C-481F-ADEE-CD89AF7749D3) page in OML user guide.\n"
   ]
  },
  {
   "cell_type": "code",
   "execution_count": null,
   "id": "669d9a12",
   "metadata": {},
   "outputs": [],
   "source": [
    "# Fit the RF model according to the training data and parameter settings.\n",
    "rf_mod = rf_mod.fit(train_x, train_y, cost_matrix = cost_matrix)"
   ]
  },
  {
   "cell_type": "code",
   "execution_count": null,
   "id": "97476dc3",
   "metadata": {},
   "outputs": [],
   "source": [
    "# Show details of the model.\n",
    "rf_mod"
   ]
  },
  {
   "cell_type": "code",
   "execution_count": null,
   "id": "6319e621",
   "metadata": {},
   "outputs": [],
   "source": [
    "# Use the model to make predictions on the test data.\n",
    "rf_mod.predict(test_ltv.drop('LTV_BIN'),\n",
    "               supplemental_cols = test_ltv[:, ['CUST_ID','LAST',\n",
    "                                                'FIRST','LTV_BIN']]).head(25)"
   ]
  },
  {
   "cell_type": "code",
   "execution_count": null,
   "id": "31f2b19a",
   "metadata": {},
   "outputs": [],
   "source": [
    "# Return the prediction probability.\n",
    "rf_mod.predict(test_ltv.drop('LTV_BIN'),\n",
    "               supplemental_cols = test_ltv[:, ['CUST_ID','LAST',\n",
    "                                                'FIRST','LTV_BIN']],\n",
    "               proba = True).head(25)"
   ]
  },
  {
   "cell_type": "code",
   "execution_count": null,
   "id": "24a795ed",
   "metadata": {},
   "outputs": [],
   "source": [
    "# Return the top two highest probability classes.\n",
    "rf_mod.predict_proba(test_ltv.drop('LTV_BIN'),\n",
    "                     supplemental_cols = test_ltv[:, ['CUST_ID','LAST',\n",
    "                                                      'FIRST','LTV_BIN']],\n",
    "                     topN = 2).sort_values(by = ['CUST_ID', 'LTV_BIN']) "
   ]
  },
  {
   "cell_type": "code",
   "execution_count": null,
   "id": "aac366f3",
   "metadata": {},
   "outputs": [],
   "source": [
    "# Return mean accuracy for classification. Is your RF model accurate?\n",
    "rf_mod.score(test_ltv.drop('LTV_BIN'), test_ltv[:, ['LTV_BIN']])"
   ]
  },
  {
   "cell_type": "code",
   "execution_count": null,
   "id": "b3caeeef",
   "metadata": {},
   "outputs": [],
   "source": [
    "# Try to increase accuracy with new parameters. Reset TREE_TERM_MAX_DEPTH and refit the model.\n",
    "rf_mod.set_params(tree_term_max_depth = '3').fit(train_x, train_y, cost_matrix = cost_matrix)"
   ]
  },
  {
   "cell_type": "code",
   "execution_count": null,
   "id": "12edfe81",
   "metadata": {},
   "outputs": [],
   "source": [
    "# Return new mean accuracy for classification. Did it work?\n",
    "rf_mod.score(test_ltv.drop('LTV_BIN'), test_ltv[:, ['LTV_BIN']])"
   ]
  },
  {
   "cell_type": "markdown",
   "id": "bd099b43",
   "metadata": {},
   "source": [
    "## **Task 16:** Classify your customers using Support Vector Machine\n",
    "\n",
    "Support Vector Machine (SVM) is a powerful algorithm based on statistical learning theory. Oracle Machine Learning implements SVM for classification, regression, and anomaly detection. \n",
    "\n",
    "> **Note** : For more information on this algorithm, visit [Support Vector Machine](https://docs.oracle.com/en/database/oracle/machine-learning/oml4sql/21/dmcon/support-vector-machine.html#GUID-FD5DF1FB-AAAA-4D4E-84A2-8F645F87C344) documentation.\n",
    "\n",
    "In this example, you will build a SVM model to classify your customers in four `LTV_BIN` classes (*LOW*, *MEDIUM*, *HIGH*, and *VERY HIGH*), and score it for mean accuracy.\n"
   ]
  },
  {
   "cell_type": "code",
   "execution_count": null,
   "id": "17f9f593",
   "metadata": {},
   "outputs": [],
   "source": [
    "# Create training and test data as data frame proxy objects that represent your database table.\n",
    "oml_cust = oml.sync(table = \"CUST_INSUR_LTV\")\n",
    "oml_cust = oml_cust.drop('LTV')\n",
    "ltv_dat = oml_cust.split() \n",
    "train_x = ltv_dat[0].drop('LTV_BIN') \n",
    "train_y = ltv_dat[0]['LTV_BIN']\n",
    "test_ltv = ltv_dat[1]"
   ]
  },
  {
   "cell_type": "code",
   "execution_count": null,
   "id": "8363ef85",
   "metadata": {},
   "outputs": [],
   "source": [
    "# Create an SVM model object.\n",
    "svm_mod = oml.svm('classification',\n",
    "                  svms_kernel_function = 'dbms_data_mining.svms_linear')"
   ]
  },
  {
   "cell_type": "markdown",
   "id": "95620c03",
   "metadata": {},
   "source": [
    "**Note** : For more information, visit [Algorithm Settings: Support Vector Machine](https://docs.oracle.com/en/database/oracle/oracle-database/21/arpls/DBMS_DATA_MINING.html#GUID-12408982-E738-4D0F-A2BC-84D895E07ABB) documentation.\n",
    "\n",
    "**Note** : To understand this model, visit the [Support Vector Machine](https://docs.oracle.com/en/database/oracle/machine-learning/oml4py/1/mlpug/support-vector-machine.html#GUID-3824F5AA-202F-4478-909A-9CB25B952210) page in OML user guide.\n"
   ]
  },
  {
   "cell_type": "code",
   "execution_count": null,
   "id": "c7a9fa15",
   "metadata": {},
   "outputs": [],
   "source": [
    "# Fit the SVM model according to the training data and parameter settings. \n",
    "# Did you model converge?\n",
    "svm_mod.fit(train_x, train_y)"
   ]
  },
  {
   "cell_type": "code",
   "execution_count": null,
   "id": "08a88a83",
   "metadata": {},
   "outputs": [],
   "source": [
    "# Re-create your SVM model using Gaussian kernel function.\n",
    "svm_mod = oml.svm('classification',\n",
    "                  svms_kernel_function = 'dbms_data_mining.svms_gaussian')"
   ]
  },
  {
   "cell_type": "markdown",
   "id": "0c32c25a",
   "metadata": {},
   "source": [
    "**Note** : Read the [Kernel-Based Learning](https://docs.oracle.com/en/database/oracle/machine-learning/oml4sql/21/dmcon/support-vector-machine.html#GUID-F2D8C52C-AE2B-47ED-9E1F-F326950CC459) documentation to find the differences between the two functions to transform the input data for SVM.\n"
   ]
  },
  {
   "cell_type": "code",
   "execution_count": null,
   "id": "a863d94e",
   "metadata": {},
   "outputs": [],
   "source": [
    "# Re-fit the SVM model. Did you model converge?\n",
    "svm_mod.fit(train_x, train_y)"
   ]
  },
  {
   "cell_type": "code",
   "execution_count": null,
   "id": "791ff6fe",
   "metadata": {},
   "outputs": [],
   "source": [
    "# Use the model to make predictions on test data.\n",
    "svm_mod.predict(test_ltv.drop('LTV_BIN'),\n",
    "                supplemental_cols = test_ltv[:, ['CUST_ID','LAST',\n",
    "                                                'FIRST','LTV_BIN']]).head(25)"
   ]
  },
  {
   "cell_type": "code",
   "execution_count": null,
   "id": "47bb5ca9",
   "metadata": {},
   "outputs": [],
   "source": [
    "# Return the prediction probability.\n",
    "svm_mod.predict(test_ltv.drop('LTV_BIN'),\n",
    "                supplemental_cols = test_ltv[:, ['CUST_ID','LAST',\n",
    "                                                'FIRST','LTV_BIN']],\n",
    "                proba = True).head(25)"
   ]
  },
  {
   "cell_type": "code",
   "execution_count": null,
   "id": "e9859484",
   "metadata": {},
   "outputs": [],
   "source": [
    "# Return mean accuracy for classification.\n",
    "svm_mod.score(test_ltv.drop('LTV_BIN'), test_ltv[:, ['LTV_BIN']])"
   ]
  },
  {
   "cell_type": "markdown",
   "id": "08b60563",
   "metadata": {},
   "source": [
    "## **Task 17:** Sentiment Analysis on Free Text Customer Reviews\n",
    "\n",
    "The dataset can be downloaded from the links below, and cite the following ACL 2011 paper in order to use it in your projects:\n",
    "Maas, A., Daly, R., Pham, P., Huang, D., Ng, A. and Potts, C. (2011). Learning Word Vectors for Sentiment Analysis: Proceedings of the 49th Annual Meeting of the Association for Computational Linguistics: Human Language Technologies. [online] Portland, Oregon, USA: Association for Computational Linguistics, pp.142–150. Available at: [http://www.aclweb.org/anthology/P11-1015](http://www.aclweb.org/anthology/P11-1015).\n",
    "\n",
    "**No need to download it**, it is already imported in the pluggable database `OML_USER` schema: `TRAINING_DATA` and `TEST_DATA` tables.\n",
    "\n",
    "This is a relatively small dataset for binary sentiment classification, featuring 25,000 movie reviews for training and 25,000 for testing. You can read the README file within the archive for more details about the dataset.\n",
    "* Large Movie Review Dataset link: [http://ai.stanford.edu/~amaas/data/sentiment/](http://ai.stanford.edu/~amaas/data/sentiment/);\n",
    "* Download link: [http://ai.stanford.edu/~amaas/data/sentiment/aclImdb_v1.tar.gz](http://ai.stanford.edu/~amaas/data/sentiment/aclImdb_v1.tar.gz).\n",
    "\n",
    "During this exercise, you will use Oracle Data Mining with Text capabilities to create a Generalized Linear Model (GLM) classification model that will be trained to perform sentiment analysis on free text. Classification is a predictive mining function. A classification model uses historical data to predict a categorical target. Both training and testing reviews are prelabeled, to calibrate and evaluate the performance of your sentiment analysis classification model.\n"
   ]
  },
  {
   "cell_type": "code",
   "execution_count": null,
   "id": "175d1fc1",
   "metadata": {},
   "outputs": [],
   "source": [
    "# Select one review comment from any of the two tables, to see the format. \n",
    "# These reviews are gathered on a web portal, and may contain some HTML tags.\n",
    "pd.set_option('display.max_colwidth', 0)\n",
    "comment = oml.sync(query = 'select ID, SENTIMENT, FILE_CONTENT \\\n",
    "                            from TEST_DATA where ID = 1')\n",
    "comment"
   ]
  },
  {
   "cell_type": "code",
   "execution_count": null,
   "id": "636129ec",
   "metadata": {},
   "outputs": [],
   "source": [
    "# Table TRAINING_DATA is used for training.\n",
    "train_dat = oml.sync(query = 'select ID, SENTIMENT, FILE_CONTENT from TRAINING_DATA')\n",
    "train_dat.shape"
   ]
  },
  {
   "cell_type": "code",
   "execution_count": null,
   "id": "d7a7b56e",
   "metadata": {},
   "outputs": [],
   "source": [
    "# Table TEST_DATA is used for testing.\n",
    "test_dat = oml.sync(query = 'select ID, SENTIMENT, FILE_CONTENT from TEST_DATA')\n",
    "test_dat.shape"
   ]
  },
  {
   "cell_type": "code",
   "execution_count": null,
   "id": "f6a8781e",
   "metadata": {},
   "outputs": [],
   "source": [
    "# Training data needs to be separated between features and labels. \n",
    "# train_x are the features, in this case user reviews and comments.\n",
    "train_x = train_dat.drop('SENTIMENT')\n",
    "train_x.shape"
   ]
  },
  {
   "cell_type": "code",
   "execution_count": null,
   "id": "b0a71a61",
   "metadata": {},
   "outputs": [],
   "source": [
    "# train_y specifies the label for each review, in this case SENTIMENT value.\n",
    "train_y = train_dat['SENTIMENT']\n",
    "train_y.shape"
   ]
  },
  {
   "cell_type": "code",
   "execution_count": null,
   "id": "ede7f665",
   "metadata": {},
   "outputs": [],
   "source": [
    "# CREATE_PREFERENCE creates a lexer preference in the Text data dictionary, named \n",
    "# sentiment_anlsys_policy. CREATE_POLICY procedure creates a policy to be used by OML.\n",
    "cr = oml.cursor()\n",
    "cr.execute(\"Begin ctx_ddl.CREATE_PREFERENCE('sentiment_anlsys_lexer', 'BASIC_LEXER'); End;\")\n",
    "cr.execute(\"Begin ctx_ddl.CREATE_POLICY('sentiment_anlsys_policy', lexer => 'sentiment_anlsys_lexer'); End;\")\n",
    "cr.close()"
   ]
  },
  {
   "cell_type": "code",
   "execution_count": null,
   "id": "a4456336",
   "metadata": {},
   "outputs": [],
   "source": [
    "# ctx_settings is a list that specifies Oracle Text attribute-specific settings.\n",
    "ctx_settings = {'FILE_CONTENT': 'TEXT(POLICY_NAME:sentiment_anlsys_policy)(TOKEN_TYPE:NORMAL)'}"
   ]
  },
  {
   "cell_type": "code",
   "execution_count": null,
   "id": "70dc4f88",
   "metadata": {},
   "outputs": [],
   "source": [
    "# Specify Generalized Linear Model (GLM) classification model settings.\n",
    "settings = {'odms_text_policy_name': 'sentiment_anlsys_policy',\n",
    "            'GLMS_SOLVER': 'dbms_data_mining.GLMS_SOLVER_QR'}\n"
   ]
  },
  {
   "cell_type": "markdown",
   "id": "e934c9ae",
   "metadata": {},
   "source": [
    "**Note** : For more information, visit [Algorithm Settings: Generalized Linear Models](https://docs.oracle.com/en/database/oracle/oracle-database/21/arpls/DBMS_DATA_MINING.html#GUID-4E3665B9-B1C2-4F6B-AB69-A7F353C70F5C) documentation.\n"
   ]
  },
  {
   "cell_type": "code",
   "execution_count": null,
   "id": "28ebf3fb",
   "metadata": {},
   "outputs": [],
   "source": [
    "# Create a GLM classification model object.\n",
    "glm_mod = oml.glm(\"classification\", **settings)"
   ]
  },
  {
   "cell_type": "code",
   "execution_count": null,
   "id": "760f32ae",
   "metadata": {},
   "outputs": [],
   "source": [
    "# Fit the GLM model according to the training data and parameter settings. The name of \n",
    "# a column that contains unique case identifiers is used for case_id parameter. Use Oracle \n",
    "# Text attribute-specific settings ctx_settings for this semantic binary classification use case.\n",
    "glm_mod = glm_mod.fit(train_x, train_y, case_id = 'ID', ctx_settings = ctx_settings)"
   ]
  },
  {
   "cell_type": "code",
   "execution_count": null,
   "id": "f37f1e72",
   "metadata": {},
   "outputs": [],
   "source": [
    "# Show the model details. Did your model converge?\n",
    "glm_mod"
   ]
  },
  {
   "cell_type": "code",
   "execution_count": null,
   "id": "17a570b9",
   "metadata": {},
   "outputs": [],
   "source": [
    "# Use the model to make predictions on the test data. How are the \n",
    "# PREDICTION values compared to the exact SENTIMENT values?\n",
    "glm_mod.predict(test_dat.drop('SENTIMENT'),\n",
    "                supplemental_cols = test_dat[:, ['ID', 'SENTIMENT']])"
   ]
  },
  {
   "cell_type": "code",
   "execution_count": null,
   "id": "18c8b6cd",
   "metadata": {},
   "outputs": [],
   "source": [
    "# Calculate the accuracy score value based on the test data. Is this score \n",
    "# satisfactory? How would you improve this mean accuracy?\n",
    "glm_mod.score(test_dat.drop('SENTIMENT'), \n",
    "              test_dat[:, ['SENTIMENT']])"
   ]
  },
  {
   "cell_type": "code",
   "execution_count": null,
   "id": "a6188f9b",
   "metadata": {},
   "outputs": [],
   "source": [
    "# Return the prediction probability.\n",
    "glm_proba = glm_mod.predict(test_dat.drop('SENTIMENT'),\n",
    "                            supplemental_cols = test_dat[:, ['ID', 'SENTIMENT']],\n",
    "                            proba = True)\n",
    "glm_proba"
   ]
  },
  {
   "cell_type": "code",
   "execution_count": null,
   "id": "c1607bb8",
   "metadata": {},
   "outputs": [],
   "source": [
    "# As data is ordered by pre-label values, return first 15 rows that have a \n",
    "# different prediction from the pre-label value (wrong predictions). \n",
    "# These results are called false negative.\n",
    "glm_proba[glm_proba['SENTIMENT'] != glm_proba['PREDICTION']].head(15)"
   ]
  },
  {
   "cell_type": "code",
   "execution_count": null,
   "id": "26ceb3b6",
   "metadata": {},
   "outputs": [],
   "source": [
    "# Return first 15 rows that have a different prediction from the pre-label \n",
    "# value (wrong predictions). These results are called false positive.\n",
    "glm_proba[glm_proba['SENTIMENT'] != glm_proba['PREDICTION']].tail(15)"
   ]
  },
  {
   "cell_type": "code",
   "execution_count": null,
   "id": "f9d5d58e",
   "metadata": {},
   "outputs": [],
   "source": [
    "# Calculate the number of false positive values from the total of 12,500 pre-labeled negative values.\n",
    "false_positive = glm_proba[(glm_proba['SENTIMENT'] == 'NEGATIVE') &\n",
    "                           (glm_proba['PREDICTION'] == 'POSITIVE'), :].__len__()\n",
    "false_positive"
   ]
  },
  {
   "cell_type": "code",
   "execution_count": null,
   "id": "3195cf6f",
   "metadata": {},
   "outputs": [],
   "source": [
    "# Calculate the number of false negative values from the total of 12,500 pre-labeled positive values.\n",
    "false_negative = glm_proba[(glm_proba['SENTIMENT'] == 'POSITIVE') &\n",
    "                           (glm_proba['PREDICTION'] == 'NEGATIVE'), :].__len__()\n",
    "false_negative"
   ]
  },
  {
   "cell_type": "code",
   "execution_count": null,
   "id": "73717451",
   "metadata": {},
   "outputs": [],
   "source": [
    "# Populate the confusion matrix, also known as an error matrix.\n",
    "confusion_matrix = pd.DataFrame({' ':['Predicted Positive', 'Predicted Negative'],\n",
    "                                 'Actual Positive':[12500 - false_negative, false_negative],\n",
    "                                 'Actual Negative':[false_positive, 12500 - false_positive]})\n",
    "confusion_matrix"
   ]
  },
  {
   "cell_type": "markdown",
   "id": "efbe581a",
   "metadata": {},
   "source": [
    "## Acknowledgements\n",
    "* **Authors** - Milton Wan, Valentin Leonard Tabacaru\n",
    "* **Last Updated By/Date** -  Valentin Leonard Tabacaru, July 2021\n",
    "    \n",
    "## Need Help?\n",
    "Please submit feedback or ask for help using our [LiveLabs Support Forum](https://community.oracle.com/tech/developers/categories/livelabsdiscussions). Please click the **Log In** button and login using your Oracle Account. Click the **Ask A Question** button to the left to start a *New Discussion* or *Ask a Question*.  Please include your workshop name and lab name.  You can also include screenshots and attach files.  Engage directly with the author of the workshop.\n",
    "    \n",
    "If you do not have an Oracle Account, click [here](https://profile.oracle.com/myprofile/account/create-account.jspx) to create one.\n"
   ]
  },
  {
   "cell_type": "code",
   "execution_count": null,
   "id": "574cd365",
   "metadata": {},
   "outputs": [],
   "source": []
  }
 ],
 "metadata": {
  "kernelspec": {
   "display_name": "Python 3",
   "language": "python",
   "name": "python3"
  },
  "language_info": {
   "codemirror_mode": {
    "name": "ipython",
    "version": 3
   },
   "file_extension": ".py",
   "mimetype": "text/x-python",
   "name": "python",
   "nbconvert_exporter": "python",
   "pygments_lexer": "ipython3",
   "version": "3.9.5"
  }
 },
 "nbformat": 4,
 "nbformat_minor": 5
}
